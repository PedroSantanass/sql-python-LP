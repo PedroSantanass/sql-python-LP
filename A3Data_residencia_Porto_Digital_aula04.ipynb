{
  "nbformat": 4,
  "nbformat_minor": 0,
  "metadata": {
    "colab": {
      "provenance": [],
      "collapsed_sections": []
    },
    "kernelspec": {
      "name": "python3",
      "display_name": "Python 3"
    },
    "language_info": {
      "name": "python"
    }
  },
  "cells": [
    {
      "cell_type": "markdown",
      "source": [
        "# A3Data - Residência Porto Digital\n",
        "\n",
        "## Processamento de Dados em Larga Escala - Aula 04\n",
        "\n",
        "---\n",
        "\n",
        "### Setup"
      ],
      "metadata": {
        "id": "ez1WRHAZLxQM"
      }
    },
    {
      "cell_type": "code",
      "execution_count": 1,
      "metadata": {
        "colab": {
          "base_uri": "https://localhost:8080/"
        },
        "id": "zsw6PYPqIDkG",
        "outputId": "36ebbb50-1ccc-4a34-d91d-27c3bb48472c"
      },
      "outputs": [
        {
          "output_type": "stream",
          "name": "stdout",
          "text": [
            "Get:1 http://security.ubuntu.com/ubuntu bionic-security InRelease [88.7 kB]\n",
            "Ign:2 https://developer.download.nvidia.com/compute/machine-learning/repos/ubuntu1804/x86_64  InRelease\n",
            "Hit:3 https://developer.download.nvidia.com/compute/cuda/repos/ubuntu1804/x86_64  InRelease\n",
            "Hit:4 http://archive.ubuntu.com/ubuntu bionic InRelease\n",
            "Hit:5 http://ppa.launchpad.net/c2d4u.team/c2d4u4.0+/ubuntu bionic InRelease\n",
            "Hit:6 https://developer.download.nvidia.com/compute/machine-learning/repos/ubuntu1804/x86_64  Release\n",
            "Get:7 https://cloud.r-project.org/bin/linux/ubuntu bionic-cran40/ InRelease [3,626 B]\n",
            "Get:8 http://archive.ubuntu.com/ubuntu bionic-updates InRelease [88.7 kB]\n",
            "Hit:9 http://ppa.launchpad.net/cran/libgit2/ubuntu bionic InRelease\n",
            "Hit:10 http://ppa.launchpad.net/deadsnakes/ppa/ubuntu bionic InRelease\n",
            "Get:11 http://archive.ubuntu.com/ubuntu bionic-backports InRelease [74.6 kB]\n",
            "Hit:12 http://ppa.launchpad.net/graphics-drivers/ppa/ubuntu bionic InRelease\n",
            "Get:14 http://security.ubuntu.com/ubuntu bionic-security/main amd64 Packages [2,965 kB]\n",
            "Get:15 http://archive.ubuntu.com/ubuntu bionic-updates/main amd64 Packages [3,397 kB]\n",
            "Get:16 http://security.ubuntu.com/ubuntu bionic-security/universe amd64 Packages [1,540 kB]\n",
            "Get:17 http://archive.ubuntu.com/ubuntu bionic-updates/universe amd64 Packages [2,318 kB]\n",
            "Fetched 10.5 MB in 3s (3,400 kB/s)\n",
            "Reading package lists...\n"
          ]
        }
      ],
      "source": [
        "%%bash\n",
        "# Instal Java\n",
        "apt-get update && apt-get install openjdk-8-jdk-headless -qq > /dev/null\n",
        "\n",
        "# Install PySpark\n",
        "pip install -q pyspark"
      ]
    },
    {
      "cell_type": "code",
      "source": [
        "import os\n",
        "os.environ['JAVA_HOME'] = '/usr/lib/jvm/java-8-openjdk-amd64'\n",
        "\n",
        "from pyspark.sql import SparkSession\n",
        "spark = SparkSession.builder.appName(\"AtividadeSQL\").getOrCreate()\n",
        "\n",
        "def q(query, n=30):\n",
        "    return spark.sql(query).show(n=n, truncate=False)"
      ],
      "metadata": {
        "id": "V1VzeKIWL-87"
      },
      "execution_count": 2,
      "outputs": []
    },
    {
      "cell_type": "code",
      "source": [
        "%%bash\n",
        "curl -O https://raw.githubusercontent.com/neylsoncrepalde/campeonato_brasileiro_dataset/main/campeonato-brasileiro-gols.csv\n",
        "curl -O https://raw.githubusercontent.com/neylsoncrepalde/campeonato_brasileiro_dataset/main/campeonato-brasileiro-full.csv\n",
        "curl -O https://raw.githubusercontent.com/neylsoncrepalde/campeonato_brasileiro_dataset/main/campeonato-brasileiro-estatisticas-full.csv\n",
        "curl -O https://raw.githubusercontent.com/neylsoncrepalde/campeonato_brasileiro_dataset/main/campeonato-brasileiro-cartoes.csv\n",
        "curl -O https://raw.githubusercontent.com/neylsoncrepalde/campeonato_brasileiro_dataset/main/Legenda.txt"
      ],
      "metadata": {
        "colab": {
          "base_uri": "https://localhost:8080/"
        },
        "id": "4VsY-29RMDZv",
        "outputId": "f43ae9af-e352-4861-874d-2cfa2780fd86"
      },
      "execution_count": 3,
      "outputs": [
        {
          "output_type": "stream",
          "name": "stderr",
          "text": [
            "  % Total    % Received % Xferd  Average Speed   Time    Time     Time  Current\n",
            "                                 Dload  Upload   Total   Spent    Left  Speed\n",
            "\r  0     0    0     0    0     0      0      0 --:--:-- --:--:-- --:--:--     0\r  0  270k    0     0    0     0      0      0 --:--:-- --:--:-- --:--:--     0\r100  270k  100  270k    0     0  2114k      0 --:--:-- --:--:-- --:--:-- 2098k\n",
            "  % Total    % Received % Xferd  Average Speed   Time    Time     Time  Current\n",
            "                                 Dload  Upload   Total   Spent    Left  Speed\n",
            "\r  0     0    0     0    0     0      0      0 --:--:-- --:--:-- --:--:--     0\r100  825k  100  825k    0     0  5094k      0 --:--:-- --:--:-- --:--:-- 5094k\n",
            "  % Total    % Received % Xferd  Average Speed   Time    Time     Time  Current\n",
            "                                 Dload  Upload   Total   Spent    Left  Speed\n",
            "\r  0     0    0     0    0     0      0      0 --:--:-- --:--:-- --:--:--     0\r100  600k  100  600k    0     0  5718k      0 --:--:-- --:--:-- --:--:-- 5773k\n",
            "  % Total    % Received % Xferd  Average Speed   Time    Time     Time  Current\n",
            "                                 Dload  Upload   Total   Spent    Left  Speed\n",
            "\r  0     0    0     0    0     0      0      0 --:--:-- --:--:-- --:--:--     0\r100  855k  100  855k    0     0  4621k      0 --:--:-- --:--:-- --:--:-- 4621k\n",
            "  % Total    % Received % Xferd  Average Speed   Time    Time     Time  Current\n",
            "                                 Dload  Upload   Total   Spent    Left  Speed\n",
            "\r  0     0    0     0    0     0      0      0 --:--:-- --:--:-- --:--:--     0\r100  2210  100  2210    0     0  55250      0 --:--:-- --:--:-- --:--:-- 55250\n"
          ]
        }
      ]
    },
    {
      "cell_type": "code",
      "source": [
        "parametros = {\n",
        "    'header': True,\n",
        "    'inferSchema': True,\n",
        "    'sep': ','\n",
        "}\n",
        "\n",
        "schema_full = \"\"\"ID int, rodada int, data string, hora string, dia string, mandante string, visitante string, formacao_mandante string, \n",
        "  formacao_visitante string, tecnico_mandante string, tecnico_visitante string, vencedor string, arena string, mandante_placar string,\n",
        "  visitante_placar string, mandante_estado string, visitante_estado string, estado_vencedor string\"\"\"\n",
        "\n",
        "cartoes = spark.read.csv(\"campeonato-brasileiro-cartoes.csv\", **parametros)\n",
        "gols = spark.read.csv(\"campeonato-brasileiro-gols.csv\", **parametros)\n",
        "estats = spark.read.csv(\"campeonato-brasileiro-estatisticas-full.csv\", **parametros)\n",
        "full = spark.read.csv(\"campeonato-brasileiro-full.csv\", **parametros, schema=schema_full)\n",
        "\n",
        "cartoes.createOrReplaceTempView('cartoes')\n",
        "gols.createOrReplaceTempView('gols')\n",
        "estats.createOrReplaceTempView('estats')\n",
        "full.createOrReplaceTempView('full')"
      ],
      "metadata": {
        "id": "UJcd3kwLMHx5"
      },
      "execution_count": 4,
      "outputs": []
    },
    {
      "cell_type": "markdown",
      "source": [
        "# DEVER DE CASA\n",
        "\n",
        "1. Qual foi o time que mais venceu partidas desde 2014?\n",
        "2. Qual foi o estado que teve mais derrotas entre 2008 e 2016?\n",
        "3. Qual foi a média de cartões vermelhos que o Palmeiras tomou nas partidas em que jogou fora de casa, marcou pelo menos 1 gol no primeiro tempo?"
      ],
      "metadata": {
        "id": "en06zqtrMVL6"
      }
    },
    {
      "cell_type": "code",
      "source": [
        "q(\"\"\"\n",
        "\n",
        "  SELECT\n",
        "    vencedor, COUNT(1) as qtd_vitorias\n",
        "  FROM full\n",
        "  WHERE data >= '2014-01-01'\n",
        "    AND vencedor <> '-'\n",
        "  GROUP BY vencedor\n",
        "  ORDER BY qtd_vitorias DESC\n",
        "  LIMIT 10\n",
        "\n",
        "\"\"\")"
      ],
      "metadata": {
        "colab": {
          "base_uri": "https://localhost:8080/"
        },
        "id": "Q_LcwcyfMRGC",
        "outputId": "9531c6df-6f43-464b-fc05-d3f04ec5273f"
      },
      "execution_count": 14,
      "outputs": [
        {
          "output_type": "stream",
          "name": "stdout",
          "text": [
            "+-------------+------------+\n",
            "|vencedor     |qtd_vitorias|\n",
            "+-------------+------------+\n",
            "|Flamengo     |155         |\n",
            "|Palmeiras    |148         |\n",
            "|Atletico-MG  |145         |\n",
            "|Corinthians  |132         |\n",
            "|Gremio       |132         |\n",
            "|Santos       |131         |\n",
            "|Sao Paulo    |127         |\n",
            "|Athletico-PR |122         |\n",
            "|Internacional|116         |\n",
            "|Fluminense   |112         |\n",
            "+-------------+------------+\n",
            "\n"
          ]
        }
      ]
    },
    {
      "cell_type": "code",
      "source": [
        "# Qual foi o estado que teve mais derrotas entre 2008 e 2016?\n",
        "q(\"\"\"\n",
        "\n",
        "  WITH tabela_derrotas AS (\n",
        "    SELECT \n",
        "      ID, data,\n",
        "      mandante_estado, visitante_estado, estado_vencedor,\n",
        "      CASE\n",
        "        WHEN mandante_estado = estado_vencedor AND visitante_estado <> estado_vencedor THEN visitante_estado\n",
        "        WHEN mandante_estado <> estado_vencedor AND visitante_estado = estado_vencedor THEN mandante_estado\n",
        "        ELSE '-'\n",
        "      END AS estado_derrota\n",
        "    FROM full\n",
        "    WHERE data >= '2008-01-01' AND data <= '2016-12-31'\n",
        "  )\n",
        "  SELECT \n",
        "    estado_derrota, COUNT(1) as qtd_derrotas\n",
        "  FROM tabela_derrotas\n",
        "  WHERE estado_derrota <> '-'\n",
        "  GROUP BY estado_derrota\n",
        "  ORDER BY COUNT(1) DESC\n",
        "\n",
        "\"\"\")"
      ],
      "metadata": {
        "colab": {
          "base_uri": "https://localhost:8080/"
        },
        "id": "xCxuo-JBMjdt",
        "outputId": "02a9b0a8-c838-444a-a2dc-c1903bd33f47"
      },
      "execution_count": 32,
      "outputs": [
        {
          "output_type": "stream",
          "name": "stdout",
          "text": [
            "+--------------+------------+\n",
            "|estado_derrota|qtd_derrotas|\n",
            "+--------------+------------+\n",
            "|SP            |448         |\n",
            "|RJ            |362         |\n",
            "|MG            |262         |\n",
            "|SC            |255         |\n",
            "|PR            |227         |\n",
            "|RS            |196         |\n",
            "|PE            |191         |\n",
            "|BA            |152         |\n",
            "|GO            |147         |\n",
            "|CE            |30          |\n",
            "+--------------+------------+\n",
            "\n"
          ]
        }
      ]
    },
    {
      "cell_type": "code",
      "source": [
        "# Qual foi a quantidade de cartões vermelhos que o Palmeiras tomou nas \n",
        "# partidas em que jogou fora de casa, marcou pelo menos 1 gol no primeiro tempo?\n",
        "q(\"\"\"\n",
        "  WITH cartoes_vermelhos AS (\n",
        "    SELECT DISTINCT\n",
        "      c.*\n",
        "    FROM cartoes c\n",
        "    INNER JOIN gols g\n",
        "      ON c.partida_id = g.partida_id\n",
        "    INNER JOIN full f\n",
        "      ON c.partida_id = f.ID\n",
        "    WHERE c.cartao = 'Vermelho'\n",
        "      AND c.clube = 'Palmeiras'\n",
        "      AND g.clube = 'Palmeiras'\n",
        "      AND (\n",
        "        g.minuto < 46 \n",
        "        OR g.minuto LIKE '45%'\n",
        "      )\n",
        "      AND f.visitante = 'Palmeiras'\n",
        "  )\n",
        "  SELECT \n",
        "    COUNT(1) as qtd_vermelhos\n",
        "  FROM cartoes_vermelhos\n",
        "\n",
        "\"\"\")\n"
      ],
      "metadata": {
        "colab": {
          "base_uri": "https://localhost:8080/"
        },
        "id": "RHHxzHWsObfJ",
        "outputId": "f50258e7-623a-49e9-c84e-6b3a491b16a3"
      },
      "execution_count": 56,
      "outputs": [
        {
          "output_type": "stream",
          "name": "stdout",
          "text": [
            "+-------------+\n",
            "|qtd_vermelhos|\n",
            "+-------------+\n",
            "|11           |\n",
            "+-------------+\n",
            "\n"
          ]
        }
      ]
    },
    {
      "cell_type": "code",
      "source": [
        "# Qual foi a média de cartões vermelhos por partida que o Palmeiras tomou nas \n",
        "# partidas em que jogou fora de casa, marcou pelo menos 1 gol no primeiro tempo?\n",
        "q(\"\"\"\n",
        "  WITH cartoes_vermelhos AS (\n",
        "    SELECT DISTINCT\n",
        "      c.*\n",
        "    FROM cartoes c\n",
        "    INNER JOIN gols g\n",
        "      ON c.partida_id = g.partida_id\n",
        "    INNER JOIN full f\n",
        "      ON c.partida_id = f.ID\n",
        "    WHERE c.cartao = 'Vermelho'\n",
        "      AND c.clube = 'Palmeiras'\n",
        "      AND g.clube = 'Palmeiras'\n",
        "      AND (\n",
        "        g.minuto < 46 \n",
        "        OR g.minuto LIKE '45%'\n",
        "      )\n",
        "      AND f.visitante = 'Palmeiras'\n",
        "  )\n",
        "  SELECT \n",
        "    SUM(qtd_vermelhos) / COUNT(1) AS media_cartoes_vermelhos\n",
        "  FROM (\n",
        "    SELECT \n",
        "      partida_id, COUNT(1) as qtd_vermelhos\n",
        "    FROM cartoes_vermelhos\n",
        "    GROUP BY partida_id\n",
        "  )\n",
        "\n",
        "\"\"\")"
      ],
      "metadata": {
        "colab": {
          "base_uri": "https://localhost:8080/"
        },
        "id": "sqpfoZIETDh4",
        "outputId": "0528f27a-e995-4fb3-bcdd-d664ae842017"
      },
      "execution_count": 59,
      "outputs": [
        {
          "output_type": "stream",
          "name": "stdout",
          "text": [
            "+-----------------------+\n",
            "|media_cartoes_vermelhos|\n",
            "+-----------------------+\n",
            "|1.375                  |\n",
            "+-----------------------+\n",
            "\n"
          ]
        }
      ]
    },
    {
      "cell_type": "markdown",
      "source": [
        "# Python"
      ],
      "metadata": {
        "id": "WcNOCrv3W7Cr"
      }
    },
    {
      "cell_type": "markdown",
      "source": [
        "Hello World em Java:\n",
        "\n",
        "```java\n",
        "class Simple {  \n",
        "   public static void main(String args[]) {  \n",
        "      System.out.println(\"Hello World from Java\");     \n",
        "   }  \n",
        "}  \n",
        "```"
      ],
      "metadata": {
        "id": "FXYeIngMXPr2"
      }
    },
    {
      "cell_type": "code",
      "source": [
        "print(\"Hello World from Python\")"
      ],
      "metadata": {
        "colab": {
          "base_uri": "https://localhost:8080/"
        },
        "id": "aWM6IVjPWShh",
        "outputId": "d52d17bc-c5c9-44f5-d590-1bf871b8a0c0"
      },
      "execution_count": 60,
      "outputs": [
        {
          "output_type": "stream",
          "name": "stdout",
          "text": [
            "Hello World from Python\n"
          ]
        }
      ]
    },
    {
      "cell_type": "code",
      "source": [
        "a = 1"
      ],
      "metadata": {
        "id": "Z9bdI5BYXbCE"
      },
      "execution_count": 61,
      "outputs": []
    },
    {
      "cell_type": "code",
      "source": [
        "a"
      ],
      "metadata": {
        "colab": {
          "base_uri": "https://localhost:8080/"
        },
        "id": "iioCTxKFXg-U",
        "outputId": "7bea5787-fcba-4450-bb2e-0d996c21fb52"
      },
      "execution_count": 62,
      "outputs": [
        {
          "output_type": "execute_result",
          "data": {
            "text/plain": [
              "1"
            ]
          },
          "metadata": {},
          "execution_count": 62
        }
      ]
    },
    {
      "cell_type": "code",
      "source": [
        "type(a)"
      ],
      "metadata": {
        "colab": {
          "base_uri": "https://localhost:8080/"
        },
        "id": "1MY2M-rmXhnX",
        "outputId": "09740ecb-6cdb-4c13-f288-25c2661c5958"
      },
      "execution_count": 63,
      "outputs": [
        {
          "output_type": "execute_result",
          "data": {
            "text/plain": [
              "int"
            ]
          },
          "metadata": {},
          "execution_count": 63
        }
      ]
    },
    {
      "cell_type": "code",
      "source": [
        "a = 1.0"
      ],
      "metadata": {
        "id": "r2imovsGXjmy"
      },
      "execution_count": 64,
      "outputs": []
    },
    {
      "cell_type": "code",
      "source": [
        "a"
      ],
      "metadata": {
        "colab": {
          "base_uri": "https://localhost:8080/"
        },
        "id": "nh8JTn1NXoZ-",
        "outputId": "909ae052-c752-484a-c506-0f37de5fa448"
      },
      "execution_count": 65,
      "outputs": [
        {
          "output_type": "execute_result",
          "data": {
            "text/plain": [
              "1.0"
            ]
          },
          "metadata": {},
          "execution_count": 65
        }
      ]
    },
    {
      "cell_type": "code",
      "source": [
        "type(a)"
      ],
      "metadata": {
        "colab": {
          "base_uri": "https://localhost:8080/"
        },
        "id": "7e_V8JH6XpTT",
        "outputId": "93738064-b5f0-489a-fe6d-afef5a24ad44"
      },
      "execution_count": 66,
      "outputs": [
        {
          "output_type": "execute_result",
          "data": {
            "text/plain": [
              "float"
            ]
          },
          "metadata": {},
          "execution_count": 66
        }
      ]
    },
    {
      "cell_type": "markdown",
      "source": [
        "Node.js para desenvolvimento\n",
        "\n",
        ".Net e GoLang pra sistemas e APIs\n",
        "\n",
        "Python - R, Julia para dados\n",
        "\n",
        "Python - pra tudo S2"
      ],
      "metadata": {
        "id": "6_fB_z8BX_uD"
      }
    },
    {
      "cell_type": "code",
      "source": [
        "nome = 'Neylson'\n",
        "sobrenome = 'Crepalde'"
      ],
      "metadata": {
        "id": "xq8Qse_aXqjZ"
      },
      "execution_count": 67,
      "outputs": []
    },
    {
      "cell_type": "code",
      "source": [
        "type(nome)"
      ],
      "metadata": {
        "colab": {
          "base_uri": "https://localhost:8080/"
        },
        "id": "sN7dViBXYwJp",
        "outputId": "ba567648-57de-49de-97da-cb6bf9e012d7"
      },
      "execution_count": 68,
      "outputs": [
        {
          "output_type": "execute_result",
          "data": {
            "text/plain": [
              "str"
            ]
          },
          "metadata": {},
          "execution_count": 68
        }
      ]
    },
    {
      "cell_type": "code",
      "source": [
        "a = 1\n",
        "b = 2.0"
      ],
      "metadata": {
        "id": "tRHevFfdYxG7"
      },
      "execution_count": 70,
      "outputs": []
    },
    {
      "cell_type": "code",
      "source": [
        "a + b"
      ],
      "metadata": {
        "colab": {
          "base_uri": "https://localhost:8080/"
        },
        "id": "I4d8Czj3YzWz",
        "outputId": "bd11feab-b842-4d7e-ea72-6c7e4a46aabf"
      },
      "execution_count": 71,
      "outputs": [
        {
          "output_type": "execute_result",
          "data": {
            "text/plain": [
              "3.0"
            ]
          },
          "metadata": {},
          "execution_count": 71
        }
      ]
    },
    {
      "cell_type": "code",
      "source": [
        "nome + ' ' + sobrenome"
      ],
      "metadata": {
        "colab": {
          "base_uri": "https://localhost:8080/",
          "height": 35
        },
        "id": "rzCcnTsNY2O9",
        "outputId": "06c4f05c-32ab-4106-b773-cb92343ba299"
      },
      "execution_count": 73,
      "outputs": [
        {
          "output_type": "execute_result",
          "data": {
            "text/plain": [
              "'Neylson Crepalde'"
            ],
            "application/vnd.google.colaboratory.intrinsic+json": {
              "type": "string"
            }
          },
          "metadata": {},
          "execution_count": 73
        }
      ]
    },
    {
      "cell_type": "code",
      "source": [
        "sim = True\n",
        "nao = False"
      ],
      "metadata": {
        "id": "JjtPnHRBY7nl"
      },
      "execution_count": 74,
      "outputs": []
    },
    {
      "cell_type": "code",
      "source": [
        "type(sim)"
      ],
      "metadata": {
        "colab": {
          "base_uri": "https://localhost:8080/"
        },
        "id": "DbQEQooiZEqj",
        "outputId": "8bc72ecb-bf02-4cdc-8df4-14120125b9a1"
      },
      "execution_count": 75,
      "outputs": [
        {
          "output_type": "execute_result",
          "data": {
            "text/plain": [
              "bool"
            ]
          },
          "metadata": {},
          "execution_count": 75
        }
      ]
    },
    {
      "cell_type": "code",
      "source": [
        "idade = 30\n",
        "nome = 'Ney'"
      ],
      "metadata": {
        "id": "1nfAuk_AZF6t"
      },
      "execution_count": 94,
      "outputs": []
    },
    {
      "cell_type": "code",
      "source": [
        "nome == 'ney'"
      ],
      "metadata": {
        "colab": {
          "base_uri": "https://localhost:8080/"
        },
        "id": "L4_zFg1layao",
        "outputId": "674d2845-c61f-4bb0-ce44-eea5aedc5d7b"
      },
      "execution_count": 101,
      "outputs": [
        {
          "output_type": "execute_result",
          "data": {
            "text/plain": [
              "False"
            ]
          },
          "metadata": {},
          "execution_count": 101
        }
      ]
    },
    {
      "cell_type": "code",
      "source": [
        "# Se idade for maior que 30, véi. Se não, jovem.\n",
        "if idade >= 30:\n",
        "  print(\"Véi\")\n",
        "  print(idade)\n",
        "  print(\"Saída da primeira opcao\")\n",
        "else:\n",
        "  print(\"Xóvem\")\n",
        "  print(idade)\n",
        "  print(\"Saída da segunda opcao\")"
      ],
      "metadata": {
        "colab": {
          "base_uri": "https://localhost:8080/"
        },
        "id": "1uGxzo3FZQNP",
        "outputId": "cd858d74-03cf-47e1-ea51-9d859a6d94bc"
      },
      "execution_count": 85,
      "outputs": [
        {
          "output_type": "stream",
          "name": "stdout",
          "text": [
            "Véi\n",
            "30\n",
            "Saída da primeira opcao\n"
          ]
        }
      ]
    },
    {
      "cell_type": "code",
      "source": [
        "idade = 29\n",
        "nome = 'Carlos'"
      ],
      "metadata": {
        "id": "na5FcPbzbzmf"
      },
      "execution_count": 109,
      "outputs": []
    },
    {
      "cell_type": "code",
      "source": [
        "if idade > 30 and nome != 'Ney':\n",
        "  print(\"Véi chato\")\n",
        "elif idade > 30 and nome == 'Ney':\n",
        "  print('Véi legal')\n",
        "else:\n",
        "  print('Clausula de senao')"
      ],
      "metadata": {
        "colab": {
          "base_uri": "https://localhost:8080/"
        },
        "id": "QfJV3WIWZitL",
        "outputId": "884f2732-f8e3-462f-c0bb-fb4b99532f21"
      },
      "execution_count": 110,
      "outputs": [
        {
          "output_type": "stream",
          "name": "stdout",
          "text": [
            "Clausula de senao\n"
          ]
        }
      ]
    },
    {
      "cell_type": "markdown",
      "source": [
        "Loops - Laços"
      ],
      "metadata": {
        "id": "5FI5-LFBcBdg"
      }
    },
    {
      "cell_type": "code",
      "source": [
        "x = 0\n",
        "while x < 10:\n",
        "  print(x)\n",
        "  x += 1"
      ],
      "metadata": {
        "colab": {
          "base_uri": "https://localhost:8080/"
        },
        "id": "aSMJ66GqatTR",
        "outputId": "fd2c848d-5c70-4ebb-ab31-9615be5ec6a5"
      },
      "execution_count": 116,
      "outputs": [
        {
          "output_type": "stream",
          "name": "stdout",
          "text": [
            "0\n",
            "1\n",
            "2\n",
            "3\n",
            "4\n",
            "5\n",
            "6\n",
            "7\n",
            "8\n",
            "9\n"
          ]
        }
      ]
    },
    {
      "cell_type": "code",
      "source": [
        "x"
      ],
      "metadata": {
        "colab": {
          "base_uri": "https://localhost:8080/"
        },
        "id": "AtvtzW8DcPCF",
        "outputId": "020850a0-7bef-4e36-a0ab-e874ca2b08db"
      },
      "execution_count": 112,
      "outputs": [
        {
          "output_type": "execute_result",
          "data": {
            "text/plain": [
              "10"
            ]
          },
          "metadata": {},
          "execution_count": 112
        }
      ]
    },
    {
      "cell_type": "code",
      "source": [
        "x = 0\n",
        "while True:\n",
        "  print(x)\n",
        "  x += 1\n",
        "  if x > 10:\n",
        "    break"
      ],
      "metadata": {
        "colab": {
          "base_uri": "https://localhost:8080/"
        },
        "id": "Smosxl3XcRq7",
        "outputId": "a9d4bddf-77f8-489a-8a8f-853ee1f3d44a"
      },
      "execution_count": 117,
      "outputs": [
        {
          "output_type": "stream",
          "name": "stdout",
          "text": [
            "0\n",
            "1\n",
            "2\n",
            "3\n",
            "4\n",
            "5\n",
            "6\n",
            "7\n",
            "8\n",
            "9\n",
            "10\n"
          ]
        }
      ]
    },
    {
      "cell_type": "code",
      "source": [
        "# Laço for\n",
        "nomes = ['Ney', 'Rarissa', 'Pedro', 'Luiz', 'Vitória', 'Rayane', 'Levi']\n",
        "\n",
        "for nome in nomes:\n",
        "  print(nome + ' é tão legal...')"
      ],
      "metadata": {
        "colab": {
          "base_uri": "https://localhost:8080/"
        },
        "id": "N1viaSa5cuPr",
        "outputId": "d5abdf6f-f46d-4281-d46d-ed8ebdc1a902"
      },
      "execution_count": 119,
      "outputs": [
        {
          "output_type": "stream",
          "name": "stdout",
          "text": [
            "Ney é tão legal...\n",
            "Rarissa é tão legal...\n",
            "Pedro é tão legal...\n",
            "Luiz é tão legal...\n",
            "Vitória é tão legal...\n",
            "Rayane é tão legal...\n",
            "Levi é tão legal...\n"
          ]
        }
      ]
    },
    {
      "cell_type": "code",
      "source": [
        "for nome in sorted(nomes):\n",
        "  print(nome + ' é meu coleguinha...')"
      ],
      "metadata": {
        "colab": {
          "base_uri": "https://localhost:8080/"
        },
        "id": "UY_ysx2jdFVD",
        "outputId": "e3da9d79-7520-4ebe-9769-a0f3205567ac"
      },
      "execution_count": 120,
      "outputs": [
        {
          "output_type": "stream",
          "name": "stdout",
          "text": [
            "Levi é meu coleguinha...\n",
            "Luiz é meu coleguinha...\n",
            "Ney é meu coleguinha...\n",
            "Pedro é meu coleguinha...\n",
            "Rarissa é meu coleguinha...\n",
            "Rayane é meu coleguinha...\n",
            "Vitória é meu coleguinha...\n"
          ]
        }
      ]
    },
    {
      "cell_type": "code",
      "source": [
        "for numero in range(10):\n",
        "  print(numero)"
      ],
      "metadata": {
        "colab": {
          "base_uri": "https://localhost:8080/"
        },
        "id": "0X8Min2fdak6",
        "outputId": "7b7876e2-3994-438f-f78b-bd4b09e2023d"
      },
      "execution_count": 121,
      "outputs": [
        {
          "output_type": "stream",
          "name": "stdout",
          "text": [
            "0\n",
            "1\n",
            "2\n",
            "3\n",
            "4\n",
            "5\n",
            "6\n",
            "7\n",
            "8\n",
            "9\n"
          ]
        }
      ]
    },
    {
      "cell_type": "code",
      "source": [
        "nomes[2]"
      ],
      "metadata": {
        "colab": {
          "base_uri": "https://localhost:8080/",
          "height": 35
        },
        "id": "hGZm5ofGdkvl",
        "outputId": "4237668a-c0e2-4cc2-b907-b1a1ab6cc629"
      },
      "execution_count": 126,
      "outputs": [
        {
          "output_type": "execute_result",
          "data": {
            "text/plain": [
              "'Pedro'"
            ],
            "application/vnd.google.colaboratory.intrinsic+json": {
              "type": "string"
            }
          },
          "metadata": {},
          "execution_count": 126
        }
      ]
    },
    {
      "cell_type": "code",
      "source": [
        "2%3 # % é o resto da divisão"
      ],
      "metadata": {
        "colab": {
          "base_uri": "https://localhost:8080/"
        },
        "id": "WDQOvFv7d6D-",
        "outputId": "5b3efc7c-f7e2-4c82-da3a-62e1f5c841d3"
      },
      "execution_count": 133,
      "outputs": [
        {
          "output_type": "execute_result",
          "data": {
            "text/plain": [
              "2"
            ]
          },
          "metadata": {},
          "execution_count": 133
        }
      ]
    },
    {
      "cell_type": "code",
      "source": [
        "# Printa par ou ímpar\n",
        "for numero in range(10):\n",
        "  if numero%2 == 0:\n",
        "    print(str(numero) + \"\\t Par!\")\n",
        "  else:\n",
        "    print(str(numero) + \"\\t Ímpar!\")"
      ],
      "metadata": {
        "colab": {
          "base_uri": "https://localhost:8080/"
        },
        "id": "Suf7lpMWdphK",
        "outputId": "bc92d6bb-bd54-4c57-e80e-f2eef37278ab"
      },
      "execution_count": 136,
      "outputs": [
        {
          "output_type": "stream",
          "name": "stdout",
          "text": [
            "0\t Par!\n",
            "1\t Ímpar!\n",
            "2\t Par!\n",
            "3\t Ímpar!\n",
            "4\t Par!\n",
            "5\t Ímpar!\n",
            "6\t Par!\n",
            "7\t Ímpar!\n",
            "8\t Par!\n",
            "9\t Ímpar!\n"
          ]
        }
      ]
    },
    {
      "cell_type": "code",
      "source": [
        "type(range(10))"
      ],
      "metadata": {
        "colab": {
          "base_uri": "https://localhost:8080/"
        },
        "id": "j67jR58weLOb",
        "outputId": "bb620682-359e-4d00-dc23-f597386f68d0"
      },
      "execution_count": 137,
      "outputs": [
        {
          "output_type": "execute_result",
          "data": {
            "text/plain": [
              "range"
            ]
          },
          "metadata": {},
          "execution_count": 137
        }
      ]
    },
    {
      "cell_type": "code",
      "source": [
        "list(range(10)) + [1]"
      ],
      "metadata": {
        "colab": {
          "base_uri": "https://localhost:8080/"
        },
        "id": "RlrXzZPoemrq",
        "outputId": "509ba9d0-ef02-49ab-c891-980f747db20d"
      },
      "execution_count": 141,
      "outputs": [
        {
          "output_type": "execute_result",
          "data": {
            "text/plain": [
              "[0, 1, 2, 3, 4, 5, 6, 7, 8, 9, 1]"
            ]
          },
          "metadata": {},
          "execution_count": 141
        }
      ]
    },
    {
      "cell_type": "code",
      "source": [
        "set( list(range(10)) + [1] )"
      ],
      "metadata": {
        "colab": {
          "base_uri": "https://localhost:8080/"
        },
        "id": "gu24VQt7etji",
        "outputId": "80513f03-c936-45c2-f08a-1610c5f43e9f"
      },
      "execution_count": 142,
      "outputs": [
        {
          "output_type": "execute_result",
          "data": {
            "text/plain": [
              "{0, 1, 2, 3, 4, 5, 6, 7, 8, 9}"
            ]
          },
          "metadata": {},
          "execution_count": 142
        }
      ]
    },
    {
      "cell_type": "code",
      "source": [
        "# tuplas\n",
        "tupla = (0, 1)"
      ],
      "metadata": {
        "id": "W556hAseexAl"
      },
      "execution_count": 144,
      "outputs": []
    },
    {
      "cell_type": "code",
      "source": [
        "print(tupla)\n",
        "type(tupla)"
      ],
      "metadata": {
        "colab": {
          "base_uri": "https://localhost:8080/"
        },
        "id": "pSF3QjpUfDiq",
        "outputId": "705201de-07f5-4036-f092-96d6da23ee0a"
      },
      "execution_count": 145,
      "outputs": [
        {
          "output_type": "stream",
          "name": "stdout",
          "text": [
            "(0, 1)\n"
          ]
        },
        {
          "output_type": "execute_result",
          "data": {
            "text/plain": [
              "tuple"
            ]
          },
          "metadata": {},
          "execution_count": 145
        }
      ]
    },
    {
      "cell_type": "code",
      "source": [
        "lista = [0, 1, 2]\n",
        "tupla = (0, 1, 2)"
      ],
      "metadata": {
        "id": "LB5O2_FTfIR1"
      },
      "execution_count": 146,
      "outputs": []
    },
    {
      "cell_type": "code",
      "source": [
        "lista[0] = 8\n",
        "print(lista)"
      ],
      "metadata": {
        "colab": {
          "base_uri": "https://localhost:8080/"
        },
        "id": "4TZIBoDGfNi1",
        "outputId": "6990b150-d30a-4790-90ef-a863af3e086e"
      },
      "execution_count": 148,
      "outputs": [
        {
          "output_type": "stream",
          "name": "stdout",
          "text": [
            "[8, 1, 2]\n"
          ]
        }
      ]
    },
    {
      "cell_type": "code",
      "source": [
        "tupla[0] = 8 # Não consigo modificar elementos de uma tupla"
      ],
      "metadata": {
        "colab": {
          "base_uri": "https://localhost:8080/",
          "height": 166
        },
        "id": "xiRDHtOXfQF-",
        "outputId": "47fb1468-5daf-4c7c-e91a-76e343830c2c"
      },
      "execution_count": 150,
      "outputs": [
        {
          "output_type": "error",
          "ename": "TypeError",
          "evalue": "ignored",
          "traceback": [
            "\u001b[0;31m---------------------------------------------------------------------------\u001b[0m",
            "\u001b[0;31mTypeError\u001b[0m                                 Traceback (most recent call last)",
            "\u001b[0;32m<ipython-input-150-71bc0036eaab>\u001b[0m in \u001b[0;36m<module>\u001b[0;34m\u001b[0m\n\u001b[0;32m----> 1\u001b[0;31m \u001b[0mtupla\u001b[0m\u001b[0;34m[\u001b[0m\u001b[0;36m0\u001b[0m\u001b[0;34m]\u001b[0m \u001b[0;34m=\u001b[0m \u001b[0;36m8\u001b[0m\u001b[0;34m\u001b[0m\u001b[0;34m\u001b[0m\u001b[0m\n\u001b[0m",
            "\u001b[0;31mTypeError\u001b[0m: 'tuple' object does not support item assignment"
          ]
        }
      ]
    },
    {
      "cell_type": "markdown",
      "source": [
        "# Semana que vem\n",
        "Semana que vem vamos trabalhar com orientação a objetos e vamos fazer o famoso projeto do Cachorro!"
      ],
      "metadata": {
        "id": "tSWgTg9IfnUJ"
      }
    },
    {
      "cell_type": "code",
      "source": [],
      "metadata": {
        "id": "LcEqf3tIfWWV"
      },
      "execution_count": null,
      "outputs": []
    }
  ]
}