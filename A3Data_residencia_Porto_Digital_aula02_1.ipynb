{
  "nbformat": 4,
  "nbformat_minor": 0,
  "metadata": {
    "colab": {
      "provenance": [],
      "collapsed_sections": []
    },
    "kernelspec": {
      "name": "python3",
      "display_name": "Python 3"
    },
    "language_info": {
      "name": "python"
    }
  },
  "cells": [
    {
      "cell_type": "markdown",
      "source": [
        "# A3Data - Residência Porto Digital\n",
        "\n",
        "## Processamento de Dados em Larga Escala - Aula 02\n",
        "\n",
        "\n",
        "---\n",
        "### Setup"
      ],
      "metadata": {
        "id": "o52GsPtyt9Or"
      }
    },
    {
      "cell_type": "code",
      "execution_count": 1,
      "metadata": {
        "id": "P2-2BE-ut0wC",
        "colab": {
          "base_uri": "https://localhost:8080/"
        },
        "outputId": "4f82f66d-a723-4826-e4d7-708ab326f0e0"
      },
      "outputs": [
        {
          "output_type": "stream",
          "name": "stdout",
          "text": [
            "Get:1 https://cloud.r-project.org/bin/linux/ubuntu bionic-cran40/ InRelease [3,626 B]\n",
            "Hit:2 http://archive.ubuntu.com/ubuntu bionic InRelease\n",
            "Get:3 http://archive.ubuntu.com/ubuntu bionic-updates InRelease [88.7 kB]\n",
            "Ign:4 https://developer.download.nvidia.com/compute/machine-learning/repos/ubuntu1804/x86_64  InRelease\n",
            "Get:5 http://security.ubuntu.com/ubuntu bionic-security InRelease [88.7 kB]\n",
            "Hit:6 https://developer.download.nvidia.com/compute/cuda/repos/ubuntu1804/x86_64  InRelease\n",
            "Hit:7 https://developer.download.nvidia.com/compute/machine-learning/repos/ubuntu1804/x86_64  Release\n",
            "Hit:8 http://ppa.launchpad.net/c2d4u.team/c2d4u4.0+/ubuntu bionic InRelease\n",
            "Get:9 http://archive.ubuntu.com/ubuntu bionic-backports InRelease [74.6 kB]\n",
            "Hit:10 http://ppa.launchpad.net/cran/libgit2/ubuntu bionic InRelease\n",
            "Hit:11 http://ppa.launchpad.net/deadsnakes/ppa/ubuntu bionic InRelease\n",
            "Hit:12 http://ppa.launchpad.net/graphics-drivers/ppa/ubuntu bionic InRelease\n",
            "Get:14 http://archive.ubuntu.com/ubuntu bionic-updates/restricted amd64 Packages [1,162 kB]\n",
            "Get:15 http://archive.ubuntu.com/ubuntu bionic-updates/main amd64 Packages [3,390 kB]\n",
            "Get:16 http://security.ubuntu.com/ubuntu bionic-security/restricted amd64 Packages [1,114 kB]\n",
            "Get:17 http://security.ubuntu.com/ubuntu bionic-security/main amd64 Packages [2,953 kB]\n",
            "Get:18 http://security.ubuntu.com/ubuntu bionic-security/universe amd64 Packages [1,540 kB]\n",
            "Fetched 10.4 MB in 3s (3,248 kB/s)\n",
            "Reading package lists...\n"
          ]
        }
      ],
      "source": [
        "%%bash\n",
        "# Instal Java\n",
        "apt-get update && apt-get install openjdk-8-jdk-headless -qq > /dev/null\n",
        "\n",
        "# Install PySpark\n",
        "pip install -q pyspark"
      ]
    },
    {
      "cell_type": "code",
      "source": [
        "import os\n",
        "os.environ['JAVA_HOME'] = '/usr/lib/jvm/java-8-openjdk-amd64'\n",
        "\n",
        "from pyspark.sql import SparkSession\n",
        "spark = SparkSession.builder.appName(\"AtividadeSQL\").getOrCreate()\n",
        "\n",
        "def q(query, n=30):\n",
        "    return spark.sql(query).show(n=n, truncate=False)"
      ],
      "metadata": {
        "id": "lC3jNqTVuKSq"
      },
      "execution_count": 2,
      "outputs": []
    },
    {
      "cell_type": "markdown",
      "source": [
        "### Datasets para a atividade de hoje"
      ],
      "metadata": {
        "id": "cvH0jSVnuOLE"
      }
    },
    {
      "cell_type": "code",
      "source": [
        "%%bash\n",
        "curl -O https://raw.githubusercontent.com/neylsoncrepalde/campeonato_brasileiro_dataset/main/campeonato-brasileiro-gols.csv\n",
        "curl -O https://raw.githubusercontent.com/neylsoncrepalde/campeonato_brasileiro_dataset/main/campeonato-brasileiro-full.csv\n",
        "curl -O https://raw.githubusercontent.com/neylsoncrepalde/campeonato_brasileiro_dataset/main/campeonato-brasileiro-estatisticas-full.csv\n",
        "curl -O https://raw.githubusercontent.com/neylsoncrepalde/campeonato_brasileiro_dataset/main/campeonato-brasileiro-cartoes.csv\n",
        "curl -O https://raw.githubusercontent.com/neylsoncrepalde/campeonato_brasileiro_dataset/main/Legenda.txt"
      ],
      "metadata": {
        "id": "1hG79NT_uQ7l",
        "colab": {
          "base_uri": "https://localhost:8080/"
        },
        "outputId": "dcb6833a-bbf6-4e28-cc2c-7ae16e6080ba"
      },
      "execution_count": 3,
      "outputs": [
        {
          "output_type": "stream",
          "name": "stderr",
          "text": [
            "  % Total    % Received % Xferd  Average Speed   Time    Time     Time  Current\n",
            "                                 Dload  Upload   Total   Spent    Left  Speed\n",
            "\r  0     0    0     0    0     0      0      0 --:--:-- --:--:-- --:--:--     0\r100  270k  100  270k    0     0  1367k      0 --:--:-- --:--:-- --:--:-- 1367k\n",
            "  % Total    % Received % Xferd  Average Speed   Time    Time     Time  Current\n",
            "                                 Dload  Upload   Total   Spent    Left  Speed\n",
            "\r  0     0    0     0    0     0      0      0 --:--:-- --:--:-- --:--:--     0\r  0     0    0     0    0     0      0      0 --:--:-- --:--:-- --:--:--     0\r100  825k  100  825k    0     0  2636k      0 --:--:-- --:--:-- --:--:-- 2628k\n",
            "  % Total    % Received % Xferd  Average Speed   Time    Time     Time  Current\n",
            "                                 Dload  Upload   Total   Spent    Left  Speed\n",
            "\r  0     0    0     0    0     0      0      0 --:--:-- --:--:-- --:--:--     0\r100  600k  100  600k    0     0  2099k      0 --:--:-- --:--:-- --:--:-- 2099k\n",
            "  % Total    % Received % Xferd  Average Speed   Time    Time     Time  Current\n",
            "                                 Dload  Upload   Total   Spent    Left  Speed\n",
            "\r  0     0    0     0    0     0      0      0 --:--:-- --:--:-- --:--:--     0\r100  855k  100  855k    0     0  3238k      0 --:--:-- --:--:-- --:--:-- 3238k\n",
            "  % Total    % Received % Xferd  Average Speed   Time    Time     Time  Current\n",
            "                                 Dload  Upload   Total   Spent    Left  Speed\n",
            "\r  0     0    0     0    0     0      0      0 --:--:-- --:--:-- --:--:--     0\r100  2210  100  2210    0     0  16616      0 --:--:-- --:--:-- --:--:-- 16616\n"
          ]
        }
      ]
    },
    {
      "cell_type": "code",
      "source": [
        "!cat Legenda.txt"
      ],
      "metadata": {
        "id": "qL_4iEBfyaIB",
        "colab": {
          "base_uri": "https://localhost:8080/"
        },
        "outputId": "fa8b4b80-1e39-4464-e2c4-8ac66b51ff98"
      },
      "execution_count": 4,
      "outputs": [
        {
          "output_type": "stream",
          "name": "stdout",
          "text": [
            "Legenda - campeonato-brasileiro-full.csv\n",
            "ID - ID da partida\n",
            "Rodada : Rodada que aconteceu a partida\n",
            "Data : Data que ocorreu a partida\n",
            "Horário :  Horário que ocorreu a partida\n",
            "Dia : Dia da semana que ocorreu a partida\n",
            "Mandante : Clube mandante                      \n",
            "Visitante : Clube Visitante\n",
            "formacao_mandante: Formação do mandante\n",
            "formacao_visitante: Formação do visitante\n",
            "tecnico_mandante: Técnico do mandante\n",
            "tecnico_visitante: Técnico do visitante\n",
            "Vencedor : Clube vencedor da partida. Quando tiver \"-\", é um empate\n",
            "Arena : Arena que ocorreu a partida                      \n",
            "Mandante Placar : Gols que o clube mandante fez na partida                      \n",
            "Visitante Placar : Gols que o clube visitante fez na partida                      \n",
            "Estado Mandante : Estado do clube mandatorio                      \n",
            "Estado Visitante : Estado do clube visitante                      \n",
            "Estado Vencedor : Estado do clube vencedor. Quando tiver \"-\", é um empate\n",
            "\n",
            "\n",
            "Legenda - campeonato-brasileiro-estatisticas-full.csv\n",
            "partida_ID - ID da partida\n",
            "Rodada - Rodada da partida\n",
            "Clube - Nome do clube\n",
            "Chutes - Finalizações\n",
            "Chutes a gol - Finalizações na direção do gol\n",
            "Posse de bola - Percentual da posse de bola\n",
            "Passes - Quantidade de passes que o clube deu na partida\n",
            "precisao_passes - Percentual da precisão de passe\n",
            "Faltas - Quantidade de faltas cometidas na partida\n",
            "cartao_amarelo - Quantidade de cartões amarelos para o clube na partida\n",
            "cartao_vermelho - Quantidade de cartões vermelhos para o clube na partida\n",
            "Impedimentos - Quantidade de impedimentos para o clube na partida\n",
            "Escanteios - Quantidade de escanteios para o clube na partida\n",
            "\n",
            "\n",
            "Legenda - campeonato-brasileiro-gols.csv\n",
            "partida_ID - ID da partida\n",
            "Rodada - Rodada da partida\n",
            "Clube - Nome do clube\n",
            "Atleta - Nome do atleta que fez o gol\n",
            "Minuto - Minuto na partida em que o gol foi marcado\n",
            "\n",
            "\n",
            "Legenda - campeonato-brasileiro-cartoes.csv\n",
            "partida_ID - ID da partida\n",
            "Rodada - Rodada da partida\n",
            "Clube - Nome do clube\n",
            "Cartao - Cor do cartão aplicado\n",
            "Atleta - Nome do atleta punido pelo cartão\n",
            "num_camisa - Número da camisa do atleta\n",
            "Posicao - Posição na partida em que o atleta se encontra\n",
            "Minuto - Minuto na partida em que o cartão foi aplicado"
          ]
        }
      ]
    },
    {
      "cell_type": "code",
      "source": [
        "parametros = {\n",
        "    'header': True,\n",
        "    'inferSchema': True,\n",
        "    'sep': ','\n",
        "}\n",
        "\n",
        "schema_full = \"\"\"ID int, rodada int, data string, hora string, dia string, mandante string, visitante string, formacao_mandante string, \n",
        "  formacao_visitante string, tecnico_mandante string, tecnico_visitante string, vencedor string, arena string, mandante_placar string,\n",
        "  visitante_placar string, mandante_estado string, visitante_estado string, estado_vencedor string\"\"\"\n",
        "\n",
        "cartoes = spark.read.csv(\"campeonato-brasileiro-cartoes.csv\", **parametros)\n",
        "gols = spark.read.csv(\"campeonato-brasileiro-gols.csv\", **parametros)\n",
        "estats = spark.read.csv(\"campeonato-brasileiro-estatisticas-full.csv\", **parametros)\n",
        "full = spark.read.csv(\"campeonato-brasileiro-full.csv\", **parametros, schema=schema_full)\n",
        "\n",
        "cartoes.createOrReplaceTempView('cartoes')\n",
        "gols.createOrReplaceTempView('gols')\n",
        "estats.createOrReplaceTempView('estats')\n",
        "full.createOrReplaceTempView('full')"
      ],
      "metadata": {
        "id": "Fgdjq0XJycdO"
      },
      "execution_count": 5,
      "outputs": []
    },
    {
      "cell_type": "code",
      "source": [
        "print('CARTOES')\n",
        "cartoes.printSchema()\n",
        "print('GOLS')\n",
        "gols.printSchema()\n",
        "print('ESTATS')\n",
        "estats.printSchema()\n",
        "print('FULL')\n",
        "full.printSchema()"
      ],
      "metadata": {
        "collapsed": true,
        "id": "ZW3XNf2q1Qiy",
        "colab": {
          "base_uri": "https://localhost:8080/"
        },
        "outputId": "18892ad9-8551-4f94-8807-76997ee9661d"
      },
      "execution_count": 6,
      "outputs": [
        {
          "output_type": "stream",
          "name": "stdout",
          "text": [
            "CARTOES\n",
            "root\n",
            " |-- partida_id: integer (nullable = true)\n",
            " |-- rodada: integer (nullable = true)\n",
            " |-- clube: string (nullable = true)\n",
            " |-- cartao: string (nullable = true)\n",
            " |-- atleta: string (nullable = true)\n",
            " |-- num_camisa: integer (nullable = true)\n",
            " |-- posicao: string (nullable = true)\n",
            " |-- minuto: string (nullable = true)\n",
            "\n",
            "GOLS\n",
            "root\n",
            " |-- partida_id: integer (nullable = true)\n",
            " |-- rodada: integer (nullable = true)\n",
            " |-- clube: string (nullable = true)\n",
            " |-- atleta: string (nullable = true)\n",
            " |-- minuto: string (nullable = true)\n",
            "\n",
            "ESTATS\n",
            "root\n",
            " |-- partida_id: integer (nullable = true)\n",
            " |-- rodada: integer (nullable = true)\n",
            " |-- clube: string (nullable = true)\n",
            " |-- chutes: integer (nullable = true)\n",
            " |-- chutes_no_alvo: integer (nullable = true)\n",
            " |-- posse_de_bola: string (nullable = true)\n",
            " |-- passes: integer (nullable = true)\n",
            " |-- precisao_passes: string (nullable = true)\n",
            " |-- faltas: integer (nullable = true)\n",
            " |-- cartao_amarelo: integer (nullable = true)\n",
            " |-- cartao_vermelho: integer (nullable = true)\n",
            " |-- impedimentos: integer (nullable = true)\n",
            " |-- escanteios: integer (nullable = true)\n",
            "\n",
            "FULL\n",
            "root\n",
            " |-- ID: integer (nullable = true)\n",
            " |-- rodada: integer (nullable = true)\n",
            " |-- data: string (nullable = true)\n",
            " |-- hora: string (nullable = true)\n",
            " |-- dia: string (nullable = true)\n",
            " |-- mandante: string (nullable = true)\n",
            " |-- visitante: string (nullable = true)\n",
            " |-- formacao_mandante: string (nullable = true)\n",
            " |-- formacao_visitante: string (nullable = true)\n",
            " |-- tecnico_mandante: string (nullable = true)\n",
            " |-- tecnico_visitante: string (nullable = true)\n",
            " |-- vencedor: string (nullable = true)\n",
            " |-- arena: string (nullable = true)\n",
            " |-- mandante_placar: string (nullable = true)\n",
            " |-- visitante_placar: string (nullable = true)\n",
            " |-- mandante_estado: string (nullable = true)\n",
            " |-- visitante_estado: string (nullable = true)\n",
            " |-- estado_vencedor: string (nullable = true)\n",
            "\n"
          ]
        }
      ]
    },
    {
      "cell_type": "markdown",
      "source": [
        "## Análises"
      ],
      "metadata": {
        "id": "zDjn3EfNKZlX"
      }
    },
    {
      "cell_type": "code",
      "source": [
        "q(\"\"\"\n",
        "\n",
        "  SELECT *\n",
        "  FROM full\n",
        "  WHERE dia = 'Quarta' -- esse filtro retorna uma tabela VAZIA!!\n",
        "  LIMIT 20\n",
        "\n",
        "\"\"\")"
      ],
      "metadata": {
        "colab": {
          "base_uri": "https://localhost:8080/"
        },
        "id": "wlt1ez9VN2O6",
        "outputId": "3703f0d5-9d13-4e42-9efd-cf01ff39e884"
      },
      "execution_count": 24,
      "outputs": [
        {
          "output_type": "stream",
          "name": "stdout",
          "text": [
            "+---+------+----+----+---+--------+---------+-----------------+------------------+----------------+-----------------+--------+-----+---------------+----------------+---------------+----------------+---------------+\n",
            "|ID |rodada|data|hora|dia|mandante|visitante|formacao_mandante|formacao_visitante|tecnico_mandante|tecnico_visitante|vencedor|arena|mandante_placar|visitante_placar|mandante_estado|visitante_estado|estado_vencedor|\n",
            "+---+------+----+----+---+--------+---------+-----------------+------------------+----------------+-----------------+--------+-----+---------------+----------------+---------------+----------------+---------------+\n",
            "+---+------+----+----+---+--------+---------+-----------------+------------------+----------------+-----------------+--------+-----+---------------+----------------+---------------+----------------+---------------+\n",
            "\n"
          ]
        }
      ]
    },
    {
      "cell_type": "code",
      "source": [
        "q(\"\"\"\n",
        "  -- Quantas partidas a gente tem informação, qual foi a primeira e qual foi a última\n",
        "  SELECT \n",
        "    COUNT(ID) AS contagem_de_partidas,\n",
        "    MIN(data) AS data_minima,\n",
        "    MAX(data) AS data_maxima\n",
        "  FROM full\n",
        "\n",
        "\"\"\")"
      ],
      "metadata": {
        "colab": {
          "base_uri": "https://localhost:8080/"
        },
        "id": "iZNOt-exKZPf",
        "outputId": "db1d3a17-222d-47ed-961b-668b3c7bd0fa"
      },
      "execution_count": 20,
      "outputs": [
        {
          "output_type": "stream",
          "name": "stdout",
          "text": [
            "+--------------------+-----------+-----------+\n",
            "|contagem_de_partidas|data_minima|data_maxima|\n",
            "+--------------------+-----------+-----------+\n",
            "|7645                |2003-03-29 |2021-12-12 |\n",
            "+--------------------+-----------+-----------+\n",
            "\n"
          ]
        }
      ]
    },
    {
      "cell_type": "code",
      "source": [
        "q(\"\"\"\n",
        "\n",
        "  SELECT *\n",
        "  FROM cartoes\n",
        "  LIMIT 20\n",
        "\n",
        "\"\"\")"
      ],
      "metadata": {
        "colab": {
          "base_uri": "https://localhost:8080/"
        },
        "id": "8xmU3FAzOr9a",
        "outputId": "045d0811-6af1-46fd-ae99-fbe58eca0848"
      },
      "execution_count": 30,
      "outputs": [
        {
          "output_type": "stream",
          "name": "stdout",
          "text": [
            "+----------+------+-------------+-------+--------------------------+----------+----------+------+\n",
            "|partida_id|rodada|clube        |cartao |atleta                    |num_camisa|posicao   |minuto|\n",
            "+----------+------+-------------+-------+--------------------------+----------+----------+------+\n",
            "|4607      |1     |Figueirense  |Amarelo|Thiago Heleno             |4         |Zagueiro  |44    |\n",
            "|4607      |1     |Figueirense  |Amarelo|Paulo Roberto da Silva    |28        |null      |66    |\n",
            "|4608      |1     |Internacional|Amarelo|Juan Silveira dos Santos  |4         |Zagueiro  |20    |\n",
            "|4608      |1     |Vitoria      |Amarelo|Vinícius Santos Silva     |null      |null      |82    |\n",
            "|4608      |1     |Internacional|Amarelo|Andrés D'Alessandro       |10        |Meio-campo|72    |\n",
            "|4608      |1     |Vitoria      |Amarelo|Marcelo Machado dos Santos|29        |null      |86    |\n",
            "|4608      |1     |Vitoria      |Amarelo|Mansur                    |null      |Zagueiro  |10    |\n",
            "|4609      |1     |Coritiba     |Amarelo|Carlos Emiliano Pereira   |30        |Zagueiro  |76    |\n",
            "|4610      |1     |Athletico-PR |Amarelo|Paulinho Dias             |17        |Meio-campo|38    |\n",
            "|4610      |1     |Gremio       |Amarelo|Ramiro Moschen Benetti    |17        |Meio-campo|62    |\n",
            "|4610      |1     |Gremio       |Amarelo|Edinho                    |15        |Meio-campo|72    |\n",
            "|4611      |1     |Botafogo-RJ  |Amarelo|Marcelo Mattos            |5         |Meio-campo|67    |\n",
            "|4611      |1     |Sao Paulo    |Amarelo|Álvaro Pereira            |6         |Zagueiro  |31    |\n",
            "|4611      |1     |Botafogo-RJ  |Amarelo|Juan Carlos Ferreyra      |9         |Atacante  |30    |\n",
            "|4612      |1     |Bahia        |Amarelo|Pará                      |40        |Zagueiro  |60    |\n",
            "|4612      |1     |Bahia        |Amarelo|Fahel                     |7         |Meio-campo|39    |\n",
            "|4612      |1     |Cruzeiro     |Amarelo|Paulo César Tinga         |7         |Meio-campo|48    |\n",
            "|4612      |1     |Cruzeiro     |Amarelo|Nílton Ferreira Júnior    |19        |Meio-campo|22    |\n",
            "|4612      |1     |Bahia        |Amarelo|Cristian Chagas Tarouco   |3         |Zagueiro  |78    |\n",
            "|4612      |1     |Bahia        |Amarelo|Rhayner                   |null      |Atacante  |41    |\n",
            "+----------+------+-------------+-------+--------------------------+----------+----------+------+\n",
            "\n"
          ]
        }
      ]
    },
    {
      "cell_type": "markdown",
      "source": [
        "### Pergunta\n",
        "\n",
        "Em quantas partidas o **Palmeiras** recebeu cartões amarelos quando jogava como visitante?\n",
        "\n",
        "Nesse caso, preciso juntar as informações que estão em tabelas diferentes (informação de cartões na tabela cartões e informação de visitante na tabela full).\n",
        "Para isso, vamos utilizar o comando **JOIN**"
      ],
      "metadata": {
        "id": "3IfMLic0QKHN"
      }
    },
    {
      "cell_type": "code",
      "source": [
        "q(\"\"\"\n",
        "\n",
        "  SELECT\n",
        "    COUNT(DISTINCT ID) as contagem\n",
        "    --f.ID, f.rodada, f.mandante, f.visitante, c.clube, c.cartao\n",
        "  FROM full f\n",
        "  INNER JOIN cartoes c\n",
        "    ON f.ID = c.partida_id\n",
        "  WHERE f.visitante = 'Palmeiras' \n",
        "    AND c.cartao = 'Amarelo'\n",
        "    AND c.clube = 'Palmeiras'\n",
        "\n",
        "\"\"\")"
      ],
      "metadata": {
        "colab": {
          "base_uri": "https://localhost:8080/"
        },
        "id": "pxFvrtuOQQgY",
        "outputId": "08492310-5510-4724-c621-57ff6a38d1cd"
      },
      "execution_count": 60,
      "outputs": [
        {
          "output_type": "stream",
          "name": "stdout",
          "text": [
            "+--------+\n",
            "|contagem|\n",
            "+--------+\n",
            "|143     |\n",
            "+--------+\n",
            "\n"
          ]
        }
      ]
    },
    {
      "cell_type": "markdown",
      "source": [
        "#### Tipos de JOIN\n",
        "\n",
        "- FULL (OUTER) JOIN - junta tudo (todas as linhas da tabela A com todas as linhas da tabela B)\n",
        "- INNER JOIN - junta apenas os casos em comum.\n",
        "- LEFT JOIN - traz todas as linhas da tabela A e as linhas que derem match da tabela B\n",
        "- RIGHT JOIN - traz todas as linhas da tabela B e as linhas que derem match da tabela A"
      ],
      "metadata": {
        "id": "20BdqxsOSGkB"
      }
    },
    {
      "cell_type": "markdown",
      "source": [
        "### Pergunta:\n",
        "\n",
        "Qual é o total de impedimentos que o Atlético MG teve nas partidas em que marcou gol no segundo tempo?"
      ],
      "metadata": {
        "id": "ou00jPbbWc3x"
      }
    },
    {
      "cell_type": "code",
      "source": [
        "q(\"\"\"\n",
        "\n",
        "  SELECT\n",
        "    SUM(impedimentos) AS total_impedimentos\n",
        "  FROM (                  -- SUB QUERY\n",
        "    SELECT DISTINCT\n",
        "      e.partida_id,\n",
        "      e.clube,\n",
        "      e.impedimentos\n",
        "    FROM estats e\n",
        "    INNER JOIN gols g\n",
        "      ON e.partida_id = g.partida_id\n",
        "    WHERE \n",
        "      g.clube = 'Atletico-MG'\n",
        "      AND g.minuto >= 46\n",
        "      AND e.clube = 'Atletico-MG'\n",
        "      AND e.impedimentos > 0\n",
        "    ORDER BY e.partida_id\n",
        "  )\n",
        "\n",
        "\"\"\")"
      ],
      "metadata": {
        "colab": {
          "base_uri": "https://localhost:8080/"
        },
        "id": "hVv5q_jKWmUM",
        "outputId": "d194df50-6a04-4f25-f9ff-57de369e61dc"
      },
      "execution_count": 97,
      "outputs": [
        {
          "output_type": "stream",
          "name": "stdout",
          "text": [
            "+------------------+\n",
            "|total_impedimentos|\n",
            "+------------------+\n",
            "|286               |\n",
            "+------------------+\n",
            "\n"
          ]
        }
      ]
    },
    {
      "cell_type": "markdown",
      "source": [
        "# Dever de casa\n",
        "\n",
        "Responda as perguntinhas:\n",
        "\n",
        "1. Qual é a média de passes que o Cruzeiro fez nas partidas em que foi vencedor?\n",
        "2. Quantos cartões amarelos o Grêmio levou no segundo tempo quando jogava em casa (mandante)?\n",
        "3. Quantos gols o Flamengo marcou fora de casa (visitante) nas partidas em que tomou mais de um cartão amarelo?\n",
        "4. Qual é a média de passes que o Cruzeiro fez nas partidas em que foi vencedor e marcou PELO MENOS 1 gol no primeiro tempo? (PEGADINHAS)"
      ],
      "metadata": {
        "id": "DXX0bPQKb2hV"
      }
    },
    {
      "cell_type": "code",
      "source": [],
      "metadata": {
        "id": "MAsff4A-cx_O"
      },
      "execution_count": null,
      "outputs": []
    }
  ]
}