{
  "nbformat": 4,
  "nbformat_minor": 0,
  "metadata": {
    "colab": {
      "name": "A3Data_residencia_Porto_Digital_aula01.ipynb",
      "provenance": [],
      "collapsed_sections": []
    },
    "kernelspec": {
      "name": "python3",
      "display_name": "Python 3"
    },
    "language_info": {
      "name": "python"
    }
  },
  "cells": [
    {
      "cell_type": "markdown",
      "source": [
        "# A3Data - Residência Porto Digital \n",
        "\n",
        "## Processamento de Dados em Larga Escala - Aula 01\n",
        "\n",
        "Prof. Dr. Neylson Crepalde\n",
        "\n",
        "## Ementa\n",
        "\n",
        "Sintaxe SQL e principais elementos de consulta de dados. Revisão da programação com Python. Introdução ao Spark. Computação distribuída, lazy evaluation. Transformações e ações. Consultas em Spark com Spark DataFrames e Spark SQL. Estudos de caso.\n",
        "\n",
        "## Objetivo\n",
        "\n",
        "Proporcionar aos alunos os conhecimentos básicos para a operação de processamento de dados em larga escala. Ao fim da disciplina, espera-se que o(a) aluno(a) seja capaz de implementar um pipeline de transformações e implementação de regras de negócio especificadas e entregar uma tabela final para consumo de dados analíticos.\n",
        "\n",
        "## Metodologia\n",
        "\n",
        "Todo o material didático, códigos e dados serão disponibilizados pelo professor para os alunos via email e/ou pasta compartilhada no Google Drive. Todas as atividades práticas deverão ser realizadas utilizando o Google Collab (https://colab.research.google.com/). Essa plataforma permite que todo o processamento de dados ocorra \"em nuvem\", não havendo a necessidade de nenhuma instalação ou configuração de ambiente local. Os alunos precisarão de um computador com acesso à internet.\n",
        "\n",
        "## Conteúdo Programático\n",
        "\n",
        "#### UNIDADE I - FUNDAMENTOS\n",
        "1. Linguagem estruturada de consulta (SQL)\n",
        "2. Programação com Python\n",
        "\n",
        "#### UNIDADE II - PROCESSAMENTO DISTRIBUÍDO DE DADOS EM LARGA ESCALA\n",
        "1. Introdução ao Apache Spark\n",
        "2. Principais Operações com Spark\n",
        "3. Estudo de caso 1\n",
        "4. Arquitetura Spark\n",
        "5. Otimizações de código e configurações\n",
        "6. Estudo de caso 2\n",
        "\n",
        "## Distribuição de pontos\n",
        "- Estudo de caso 1 - 3 pts.\n",
        "- Estudo de caso 2 - 3 pts.\n",
        "- Projeto final - 4 pts.\n",
        "\n",
        "## Referências\n",
        "\n",
        "- CHAMBERS, Bill; ZAHARIA, Mattei. Spark: The Definitive Guide: Big Data Processing Made Simple. O’Reilly, 2018.\n",
        "- DAMJI, Jules S. et al. Learning Spark: Lightning-Fast Data Analytics. O’Reilly, 2020.\n"
      ],
      "metadata": {
        "id": "7mPsu9pordVY"
      }
    },
    {
      "cell_type": "markdown",
      "source": [
        "# Aula 01 - Linguagem Estruturada de Consulta - SQL\n",
        "\n",
        "## Preparação do ambiente\n",
        "\n",
        "Execute as próximas duas células"
      ],
      "metadata": {
        "id": "Iz-dgyMXtUcC"
      }
    },
    {
      "cell_type": "code",
      "execution_count": null,
      "metadata": {
        "id": "Cfi7LY52rSZb"
      },
      "outputs": [],
      "source": [
        "%%bash\n",
        "# Instal Java\n",
        "apt-get update && apt-get install openjdk-8-jdk-headless -qq > /dev/null\n",
        "\n",
        "# Install PySpark\n",
        "pip install -q pyspark"
      ]
    },
    {
      "cell_type": "code",
      "source": [
        "import os\n",
        "os.environ['JAVA_HOME'] = '/usr/lib/jvm/java-8-openjdk-amd64'\n",
        "\n",
        "from pyspark.sql import SparkSession\n",
        "spark = SparkSession.builder.appName(\"AtividadeSQL\").getOrCreate()\n",
        "\n",
        "def q(query, n=30):\n",
        "    return spark.sql(query).show(n=n, truncate=False)"
      ],
      "metadata": {
        "id": "iPfNIhvutswR"
      },
      "execution_count": null,
      "outputs": []
    },
    {
      "cell_type": "markdown",
      "source": [
        "Para executar alguma consulta, basta colocar seu código sql dentro da função q como no exemplo abaixo:\n",
        "\n",
        "```python\n",
        "q(\"\"\"\n",
        "    SELECT *\n",
        "    FROM tabela\n",
        "\"\"\")\n",
        "```\n",
        "\n",
        "e o resultado será exibido na tela.\n",
        "\n",
        "---\n",
        "\n",
        "Agora, vamos fazer o download do primeiro dataset que vamos utilizar nos exercícios:"
      ],
      "metadata": {
        "id": "lppEHVLSAP7K"
      }
    },
    {
      "cell_type": "code",
      "source": [
        "!curl -O https://raw.githubusercontent.com/neylsoncrepalde/titanic_data_with_semicolon/main/titanic.csv"
      ],
      "metadata": {
        "id": "G_AJOGy7APKy"
      },
      "execution_count": null,
      "outputs": []
    },
    {
      "cell_type": "code",
      "source": [
        "# Leitura da tabela para realização de consultas\n",
        "titanic = spark.read.csv(\"titanic.csv\", header=True, sep=\";\", inferSchema=True)\n",
        "titanic.printSchema()\n",
        "titanic.createOrReplaceTempView(\"titanic\")"
      ],
      "metadata": {
        "id": "_6YjiSHmAsQK"
      },
      "execution_count": null,
      "outputs": []
    },
    {
      "cell_type": "code",
      "source": [
        "q(\"\"\"\n",
        "\n",
        "  SELECT *\n",
        "  FROM titanic\n",
        "  LIMIT 10\n",
        "\n",
        "\"\"\")"
      ],
      "metadata": {
        "id": "RZBHGhsBBGx4"
      },
      "execution_count": null,
      "outputs": []
    },
    {
      "cell_type": "code",
      "source": [
        "q(\"\"\"\n",
        "  SELECT COUNT(1) as contagem\n",
        "  FROM titanic\n",
        "\"\"\")"
      ],
      "metadata": {
        "id": "p1Y8AWKIBUpq"
      },
      "execution_count": null,
      "outputs": []
    },
    {
      "cell_type": "code",
      "source": [],
      "metadata": {
        "id": "ENyzzkG6DRzN"
      },
      "execution_count": null,
      "outputs": []
    }
  ]
}