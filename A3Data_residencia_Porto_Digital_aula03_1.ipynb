{
  "nbformat": 4,
  "nbformat_minor": 0,
  "metadata": {
    "colab": {
      "provenance": [],
      "collapsed_sections": []
    },
    "kernelspec": {
      "name": "python3",
      "display_name": "Python 3"
    },
    "language_info": {
      "name": "python"
    }
  },
  "cells": [
    {
      "cell_type": "markdown",
      "source": [
        "# A3Data - Residência Porto Digital\n",
        "\n",
        "## Processamento de Dados em Larga Escala - Aula 03\n",
        "\n",
        "\n",
        "---\n",
        "### Setup"
      ],
      "metadata": {
        "id": "V68C33k6-eVP"
      }
    },
    {
      "cell_type": "code",
      "execution_count": null,
      "metadata": {
        "id": "li2C-iaO8mEP"
      },
      "outputs": [],
      "source": [
        "%%bash\n",
        "# Instal Java\n",
        "apt-get update && apt-get install openjdk-8-jdk-headless -qq > /dev/null\n",
        "\n",
        "# Install PySpark\n",
        "pip install -q pyspark"
      ]
    },
    {
      "cell_type": "code",
      "source": [
        "import os\n",
        "os.environ['JAVA_HOME'] = '/usr/lib/jvm/java-8-openjdk-amd64'\n",
        "\n",
        "from pyspark.sql import SparkSession\n",
        "spark = SparkSession.builder.appName(\"AtividadeSQL\").getOrCreate()\n",
        "\n",
        "def q(query, n=30):\n",
        "    return spark.sql(query).show(n=n, truncate=False)"
      ],
      "metadata": {
        "id": "_dGBjW9j-imp"
      },
      "execution_count": 2,
      "outputs": []
    },
    {
      "cell_type": "code",
      "source": [
        "%%bash\n",
        "curl -O https://raw.githubusercontent.com/neylsoncrepalde/campeonato_brasileiro_dataset/main/campeonato-brasileiro-gols.csv\n",
        "curl -O https://raw.githubusercontent.com/neylsoncrepalde/campeonato_brasileiro_dataset/main/campeonato-brasileiro-full.csv\n",
        "curl -O https://raw.githubusercontent.com/neylsoncrepalde/campeonato_brasileiro_dataset/main/campeonato-brasileiro-estatisticas-full.csv\n",
        "curl -O https://raw.githubusercontent.com/neylsoncrepalde/campeonato_brasileiro_dataset/main/campeonato-brasileiro-cartoes.csv\n",
        "curl -O https://raw.githubusercontent.com/neylsoncrepalde/campeonato_brasileiro_dataset/main/Legenda.txt"
      ],
      "metadata": {
        "id": "oep3sXVh-jcG"
      },
      "execution_count": null,
      "outputs": []
    },
    {
      "cell_type": "code",
      "source": [
        "parametros = {\n",
        "    'header': True,\n",
        "    'inferSchema': True,\n",
        "    'sep': ','\n",
        "}\n",
        "\n",
        "schema_full = \"\"\"ID int, rodada int, data string, hora string, dia string, mandante string, visitante string, formacao_mandante string, \n",
        "  formacao_visitante string, tecnico_mandante string, tecnico_visitante string, vencedor string, arena string, mandante_placar string,\n",
        "  visitante_placar string, mandante_estado string, visitante_estado string, estado_vencedor string\"\"\"\n",
        "\n",
        "cartoes = spark.read.csv(\"campeonato-brasileiro-cartoes.csv\", **parametros)\n",
        "gols = spark.read.csv(\"campeonato-brasileiro-gols.csv\", **parametros)\n",
        "estats = spark.read.csv(\"campeonato-brasileiro-estatisticas-full.csv\", **parametros)\n",
        "full = spark.read.csv(\"campeonato-brasileiro-full.csv\", **parametros, schema=schema_full)\n",
        "\n",
        "cartoes.createOrReplaceTempView('cartoes')\n",
        "gols.createOrReplaceTempView('gols')\n",
        "estats.createOrReplaceTempView('estats')\n",
        "full.createOrReplaceTempView('full')"
      ],
      "metadata": {
        "id": "UXHH-jlDEUCr"
      },
      "execution_count": 4,
      "outputs": []
    },
    {
      "cell_type": "markdown",
      "source": [
        "# Dever de casa\n",
        "\n",
        "Responda as perguntinhas:\n",
        "\n",
        "1. Qual é a média de passes que o Cruzeiro fez nas partidas em que foi vencedor?\n",
        "2. Quantos cartões amarelos o Grêmio levou no segundo tempo quando jogava em casa (mandante)?\n",
        "3. Quantos gols o Flamengo marcou fora de casa (visitante) nas partidas em que tomou mais de um cartão amarelo?\n",
        "4. Qual é a média de passes que o Cruzeiro fez nas partidas em que foi vencedor e marcou PELO MENOS 1 gol no primeiro tempo? (PEGADINHAS)"
      ],
      "metadata": {
        "id": "rtKFEN0MEZxE"
      }
    },
    {
      "cell_type": "code",
      "source": [
        "q(\"\"\"\n",
        "\n",
        "  SELECT\n",
        "    AVG(e.passes) as med_passes,\n",
        "    MIN(e.passes) as min_passes,\n",
        "    MAX(e.passes) as max_passes\n",
        "  FROM estats e\n",
        "  INNER JOIN full f\n",
        "    ON e.partida_id = f.ID\n",
        "  WHERE e.clube = 'Cruzeiro'\n",
        "    AND f.vencedor = 'Cruzeiro'\n",
        "    AND e.passes > 0\n",
        "\n",
        "\"\"\")"
      ],
      "metadata": {
        "id": "NA6XeuACJdOS",
        "colab": {
          "base_uri": "https://localhost:8080/"
        },
        "outputId": "6faa7867-74cc-4253-ccb6-60110fc88c3c"
      },
      "execution_count": 29,
      "outputs": [
        {
          "output_type": "stream",
          "name": "stdout",
          "text": [
            "+-----------------+----------+----------+\n",
            "|med_passes       |min_passes|max_passes|\n",
            "+-----------------+----------+----------+\n",
            "|436.9384615384615|229       |622       |\n",
            "+-----------------+----------+----------+\n",
            "\n"
          ]
        }
      ]
    },
    {
      "cell_type": "markdown",
      "source": [
        "Quantos cartões amarelos o Grêmio levou no segundo tempo quando jogava em casa (mandante)?"
      ],
      "metadata": {
        "id": "59wTkYxCOD3k"
      }
    },
    {
      "cell_type": "code",
      "source": [
        "q(\"\"\"\n",
        "  -- COUNT(1) representa uma contagem simples de linhas na tabela\n",
        "  SELECT\n",
        "    COUNT(1) as qtd_cartoes_amarelos\n",
        "  FROM cartoes c\n",
        "  INNER JOIN full f\n",
        "    ON c.partida_id = f.ID\n",
        "  WHERE c.cartao = 'Amarelo'\n",
        "    AND c.minuto > 45\n",
        "    AND c.clube = 'Gremio'\n",
        "    AND f.mandante = 'Gremio'\n",
        "\n",
        "\"\"\")"
      ],
      "metadata": {
        "colab": {
          "base_uri": "https://localhost:8080/"
        },
        "id": "0Ytun49uKqJs",
        "outputId": "0eb3fdf0-ddf2-4191-f52b-bb249b813f7d"
      },
      "execution_count": 42,
      "outputs": [
        {
          "output_type": "stream",
          "name": "stdout",
          "text": [
            "+--------------------+\n",
            "|qtd_cartoes_amarelos|\n",
            "+--------------------+\n",
            "|187                 |\n",
            "+--------------------+\n",
            "\n"
          ]
        }
      ]
    },
    {
      "cell_type": "markdown",
      "source": [
        "Quantos gols o Flamengo marcou fora de casa (visitante) nas partidas em que tomou mais de um cartão amarelo?"
      ],
      "metadata": {
        "id": "z9nRWV_tP-R5"
      }
    },
    {
      "cell_type": "code",
      "source": [
        "q(\"\"\"\n",
        "\n",
        "  SELECT\n",
        "    COUNT(1) as contagem\n",
        "  FROM (\n",
        "    SELECT DISTINCT\n",
        "      g.partida_id,\n",
        "      g.clube as clube_gol,\n",
        "      g.minuto as minuto_gol,\n",
        "      f.visitante,\n",
        "      c.clube as clube_cartao\n",
        "    FROM gols g\n",
        "    INNER JOIN full f\n",
        "      ON g.partida_id = f.ID\n",
        "    INNER JOIN cartoes c\n",
        "      ON c.partida_id = g.partida_id\n",
        "    WHERE g.clube = 'Flamengo'\n",
        "      AND f.visitante = 'Flamengo'\n",
        "      AND c.cartao = 'Amarelo'\n",
        "      AND c.clube = 'Flamengo'\n",
        "    ORDER BY g.partida_id\n",
        "  )\n",
        "\n",
        "\"\"\")"
      ],
      "metadata": {
        "colab": {
          "base_uri": "https://localhost:8080/"
        },
        "id": "ntFCVm8-OL9h",
        "outputId": "99987036-a322-4582-ba32-b577c1ff5e13"
      },
      "execution_count": 58,
      "outputs": [
        {
          "output_type": "stream",
          "name": "stdout",
          "text": [
            "+--------+\n",
            "|contagem|\n",
            "+--------+\n",
            "|181     |\n",
            "+--------+\n",
            "\n"
          ]
        }
      ]
    },
    {
      "cell_type": "markdown",
      "source": [
        "Qual é a média de passes que o Cruzeiro fez nas partidas em que foi vencedor e marcou PELO MENOS 1 gol no primeiro tempo?"
      ],
      "metadata": {
        "id": "wchwHn_6TsQ-"
      }
    },
    {
      "cell_type": "code",
      "source": [
        "q(\"\"\"\n",
        "\n",
        "  SELECT *\n",
        "  FROM gols\n",
        "  WHERE clube = 'Cruzeiro'\n",
        "    AND minuto LIKE '45%'\n",
        "    OR minuto < 46\n",
        "    \n",
        "\n",
        "\"\"\", n=100)"
      ],
      "metadata": {
        "id": "cA87U-6MUdYy"
      },
      "execution_count": null,
      "outputs": []
    },
    {
      "cell_type": "code",
      "source": [
        "q(\"\"\"\n",
        "\n",
        "  SELECT\n",
        "    AVG(passes) as med_passes\n",
        "  FROM (\n",
        "    SELECT DISTINCT\n",
        "      e.partida_id,\n",
        "      e.clube,\n",
        "      e.passes,\n",
        "      f.vencedor\n",
        "    FROM estats e\n",
        "    INNER JOIN full f\n",
        "      ON e.partida_id = f.ID\n",
        "    INNER JOIN gols g\n",
        "      ON g.partida_id = e.partida_id\n",
        "    WHERE e.clube = 'Cruzeiro'\n",
        "      AND e.passes > 0\n",
        "      AND f.vencedor = 'Cruzeiro'\n",
        "      AND g.clube = 'Cruzeiro'\n",
        "      AND (g.minuto LIKE '45%' OR g.minuto < 46)\n",
        "    ORDER BY partida_id\n",
        "  )\n",
        "\n",
        "\"\"\")"
      ],
      "metadata": {
        "colab": {
          "base_uri": "https://localhost:8080/"
        },
        "id": "CJr_6WfWTsjI",
        "outputId": "6ee8af94-0105-4548-fdba-c3255d04bf48"
      },
      "execution_count": 78,
      "outputs": [
        {
          "output_type": "stream",
          "name": "stdout",
          "text": [
            "+-----------------+\n",
            "|med_passes       |\n",
            "+-----------------+\n",
            "|428.0444444444444|\n",
            "+-----------------+\n",
            "\n"
          ]
        }
      ]
    },
    {
      "cell_type": "markdown",
      "source": [
        "## Algumas coisas mais\n",
        "\n",
        "Se eu quiser produzir uma coluna baseada nos casos de outra coluna, posso usar o comando CASE WHEN (dentro do SELECT)"
      ],
      "metadata": {
        "id": "O7bo9XPyX9rr"
      }
    },
    {
      "cell_type": "code",
      "source": [
        "q(\"\"\"\n",
        "  -- Coluna se o gol foi no primeiro ou no segundo tempo\n",
        "  SELECT\n",
        "    partida_id,\n",
        "    clube,\n",
        "    minuto,\n",
        "    CASE\n",
        "      WHEN (minuto >= 46 OR minuto LIKE '90%')THEN 2\n",
        "      ELSE 1 END AS tempo_gol,\n",
        "    atleta\n",
        "  FROM gols\n",
        "\n",
        "\"\"\", n=100)"
      ],
      "metadata": {
        "colab": {
          "base_uri": "https://localhost:8080/"
        },
        "id": "Y-zrjbDVTzgi",
        "outputId": "1be1acba-4b59-4a61-b76c-9c016b85d56a"
      },
      "execution_count": 87,
      "outputs": [
        {
          "output_type": "stream",
          "name": "stdout",
          "text": [
            "+----------+-------------+------+---------+-----------------------------------+\n",
            "|partida_id|clube        |minuto|tempo_gol|atleta                             |\n",
            "+----------+-------------+------+---------+-----------------------------------+\n",
            "|4607      |Fluminense   |31    |1        |Rafael Sóbis                       |\n",
            "|4607      |Fluminense   |45    |1        |Fred                               |\n",
            "|4607      |Fluminense   |59    |2        |Nirley da Silva Fonseca            |\n",
            "|4608      |Internacional|6     |1        |Charles Aránguiz                   |\n",
            "|4610      |Athletico-PR |16    |1        |Dráusio Luis Salla Gil             |\n",
            "|4611      |Sao Paulo    |13    |1        |Antônio Carlos dos Santos Aguiar   |\n",
            "|4611      |Sao Paulo    |22    |1        |Douglas Pereira dos Santos         |\n",
            "|4611      |Sao Paulo    |56    |2        |Luís Fabiano                       |\n",
            "|4612      |Bahia        |80    |2        |Anderson Talisca                   |\n",
            "|4612      |Cruzeiro     |63    |2        |Nílton Ferreira Júnior             |\n",
            "|4612      |Cruzeiro     |90    |2        |Marcelo Moreno                     |\n",
            "|4615      |Santos       |80    |2        |Gabriel Barbosa                    |\n",
            "|4615      |Sport        |73    |2        |Neto Baiano                        |\n",
            "|4616      |Criciuma     |12    |1        |Paulo Baier                        |\n",
            "|4616      |Palmeiras    |83    |2        |Leandro                            |\n",
            "|4616      |Palmeiras    |88    |2        |Alan Kardec                        |\n",
            "|4618      |Fluminense   |45    |1        |Rafael Sóbis                       |\n",
            "|4619      |Botafogo-RJ  |64    |2        |Emerson Sheik                      |\n",
            "|4619      |Botafogo-RJ  |75    |2        |Pablo Zeballos                     |\n",
            "|4619      |Internacional|9     |1        |Rafael Moura                       |\n",
            "|4619      |Internacional|35    |1        |Rafael Moura                       |\n",
            "|4620      |Vitoria      |11    |1        |Telmário de Araújo Sacramento      |\n",
            "|4620      |Vitoria      |36    |1        |José Welison                       |\n",
            "|4620      |Athletico-PR |78    |2        |Mosquito                           |\n",
            "|4620      |Athletico-PR |83    |2        |Marcelo Cirino da Silva            |\n",
            "|4621      |Corinthians  |9     |1        |Guilherme dos Santos Torres        |\n",
            "|4621      |Corinthians  |80    |2        |Carlos Gilberto do Nascimento Silva|\n",
            "|4622      |Cruzeiro     |50    |2        |Júlio Baptista                     |\n",
            "|4622      |Sao Paulo    |90+2  |2        |Antônio Carlos dos Santos Aguiar   |\n",
            "|4623      |Bahia        |8     |1        |Lincoln Cássio de Souza Soares     |\n",
            "|4623      |Bahia        |74    |2        |Fahel                              |\n",
            "|4624      |Gremio       |11    |1        |Alan Ruiz                          |\n",
            "|4624      |Gremio       |22    |1        |Lucas Coelho                       |\n",
            "|4624      |Atletico-MG  |84    |2        |Luiz Fernando Pereira da Silva     |\n",
            "|4625      |Goias        |82    |2        |Willian José de Souza              |\n",
            "|4626      |Sport        |12    |1        |Rithely                            |\n",
            "|4626      |Sport        |38    |1        |Ananias Elói Castro Monteiro       |\n",
            "|4626      |Chapecoense  |37    |1        |Ricardo Conceição                  |\n",
            "|4628      |Athletico-PR |24    |1        |Éderson Alves Ribeiro Silva        |\n",
            "|4628      |Athletico-PR |40    |1        |Marcelo Cirino da Silva            |\n",
            "|4628      |Cruzeiro     |36    |1        |Nílton Ferreira Júnior             |\n",
            "|4628      |Cruzeiro     |75    |2        |Elierce Barbosa de Souza           |\n",
            "|4628      |Cruzeiro     |83    |2        |Marcelo Moreno                     |\n",
            "|4629      |Sao Paulo    |22    |1        |Alexandre Pato                     |\n",
            "|4629      |Sao Paulo    |72    |2        |Ademilson                          |\n",
            "|4629      |Coritiba     |30    |1        |Róbson Michael Signorini           |\n",
            "|4629      |Coritiba     |61    |2        |Luis Francisco Grando              |\n",
            "|4630      |Fluminense   |88    |2        |Wagner Ferreira dos Santos         |\n",
            "|4630      |Vitoria      |54    |2        |Marcos Antônio da Silva Gonçalves  |\n",
            "|4630      |Vitoria      |83    |2        |Marcos Antônio da Silva Gonçalves  |\n",
            "|4631      |Criciuma     |14    |1        |Silvinho                           |\n",
            "|4632      |Internacional|13    |1        |Andrés D'Alessandro                |\n",
            "|4632      |Internacional|45+1  |1        |Charles Aránguiz                   |\n",
            "|4632      |Sport        |78    |2        |Patric Cabral Lalau                |\n",
            "|4633      |Bahia        |59    |2        |Maxi Biancucchi                    |\n",
            "|4634      |Flamengo     |14    |1        |Paulinho                           |\n",
            "|4634      |Flamengo     |50    |2        |Márcio Rodrigues Araújo            |\n",
            "|4634      |Flamengo     |60    |2        |Alecsandro                         |\n",
            "|4634      |Flamengo     |73    |2        |Alecsandro                         |\n",
            "|4634      |Palmeiras    |11    |1        |Wesley Lopes Beltrame              |\n",
            "|4634      |Palmeiras    |31    |1        |Henrique Dourado                   |\n",
            "|4635      |Corinthians  |78    |2        |Paolo Guerrero                     |\n",
            "|4636      |Goias        |69    |2        |David França Oliveira e Silva      |\n",
            "|4637      |Internacional|54    |2        |Andrés D'Alessandro                |\n",
            "|4637      |Internacional|67    |2        |Alan Patrick                       |\n",
            "|4637      |Athletico-PR |52    |2        |Marcos Guilherme                   |\n",
            "|4638      |Palmeiras    |16    |1        |Lucimar da Silva Ferreira          |\n",
            "|4638      |Palmeiras    |32    |1        |Henrique Dourado                   |\n",
            "|4639      |Botafogo-RJ  |23    |1        |Emerson Sheik                      |\n",
            "|4639      |Botafogo-RJ  |52    |2        |Emerson Sheik                      |\n",
            "|4639      |Botafogo-RJ  |55    |2        |Daniel Corrêa Freitas              |\n",
            "|4639      |Botafogo-RJ  |57    |2        |Daniel Corrêa Freitas              |\n",
            "|4639      |Botafogo-RJ  |73    |2        |Daniel Corrêa Freitas              |\n",
            "|4639      |Botafogo-RJ  |81    |2        |Wallyson                           |\n",
            "|4640      |Chapecoense  |90+2  |2        |Tiago Luís Martins                 |\n",
            "|4640      |Gremio       |30    |1        |Hernán Barcos                      |\n",
            "|4640      |Gremio       |65    |2        |Hernán Barcos                      |\n",
            "|4641      |Fluminense   |11    |1        |Fred                               |\n",
            "|4641      |Fluminense   |87    |2        |Francisco Souza dos Santos         |\n",
            "|4642      |Atletico-MG  |55    |2        |Marion Silva Fernandes             |\n",
            "|4642      |Atletico-MG  |71    |2        |André Felipe Ribeiro de Souza      |\n",
            "|4642      |Cruzeiro     |37    |1        |Marcelo Moreno                     |\n",
            "|4643      |Sao Paulo    |81    |2        |Luís Fabiano                       |\n",
            "|4643      |Corinthians  |49    |2        |Fagner                             |\n",
            "|4644      |Santos       |44    |1        |Gabriel Barbosa                    |\n",
            "|4644      |Santos       |62    |2        |Arouca                             |\n",
            "|4645      |Sport        |86    |2        |Rithely                            |\n",
            "|4646      |Bahia        |90+1  |2        |Pará                               |\n",
            "|4646      |Vitoria      |39    |1        |Souza                              |\n",
            "|4647      |Goias        |54    |2        |Ramón Rodrigo de Freitas           |\n",
            "|4647      |Goias        |70    |2        |Danilo Lopes Cezario               |\n",
            "|4648      |Cruzeiro     |11    |1        |Ricardo Goulart                    |\n",
            "|4648      |Cruzeiro     |45+1  |1        |Ricardo Goulart                    |\n",
            "|4648      |Cruzeiro     |69    |2        |Borges                             |\n",
            "|4648      |Coritiba     |23    |1        |Alexsandro de Souza                |\n",
            "|4648      |Coritiba     |55    |2        |Norberto Pereira Marinho Neto      |\n",
            "|4649      |Gremio       |37    |1        |Rodrigo Eduardo Costa Marinho      |\n",
            "|4650      |Figueirense  |48    |2        |Giovanni Augusto                   |\n",
            "|4651      |Sao Paulo    |23    |1        |Paulo Henrique Ganso               |\n",
            "|4651      |Sao Paulo    |90+1  |2        |Paulo Henrique Ganso               |\n",
            "+----------+-------------+------+---------+-----------------------------------+\n",
            "only showing top 100 rows\n",
            "\n"
          ]
        }
      ]
    },
    {
      "cell_type": "code",
      "source": [
        "q(\"\"\"\n",
        "\n",
        "  SELECT\n",
        "    ID,\n",
        "    mandante,\n",
        "    CASE\n",
        "      WHEN mandante = 'Atletico-MG' THEN 'Galo doido'\n",
        "      WHEN mandante = 'Cruzeiro' THEN 'Cabuloso'\n",
        "      WHEN mandante = 'Palmeiras' THEN 'Sem mundial'\n",
        "      WHEN mandante = 'Flamengo' THEN 'Mengao'\n",
        "      ELSE mandante \n",
        "    END AS apelido\n",
        "  FROM full\n",
        "  WHERE ID >= 5000\n",
        "\n",
        "\"\"\", n = 200)"
      ],
      "metadata": {
        "colab": {
          "base_uri": "https://localhost:8080/"
        },
        "id": "-XUO-ftIYUis",
        "outputId": "8f7afcc2-2ac3-4e3c-e466-1143e43a08eb"
      },
      "execution_count": 92,
      "outputs": [
        {
          "output_type": "stream",
          "name": "stdout",
          "text": [
            "+----+-------------+-------------+\n",
            "|ID  |mandante     |apelido      |\n",
            "+----+-------------+-------------+\n",
            "|5000|Figueirense  |Figueirense  |\n",
            "|5001|Atletico-MG  |Galo doido   |\n",
            "|5002|Flamengo     |Mengao       |\n",
            "|5003|Santos       |Santos       |\n",
            "|5004|Joinville    |Joinville    |\n",
            "|5005|Ponte Preta  |Ponte Preta  |\n",
            "|5006|Internacional|Internacional|\n",
            "|5007|Sao Paulo    |Sao Paulo    |\n",
            "|5008|Vasco        |Vasco        |\n",
            "|5009|Gremio       |Gremio       |\n",
            "|5010|Palmeiras    |Sem mundial  |\n",
            "|5011|Chapecoense  |Chapecoense  |\n",
            "|5012|Athletico-PR |Athletico-PR |\n",
            "|5013|Fluminense   |Fluminense   |\n",
            "|5014|Avai         |Avai         |\n",
            "|5015|Cruzeiro     |Cabuloso     |\n",
            "|5016|Sport        |Sport        |\n",
            "|5017|Ponte Preta  |Ponte Preta  |\n",
            "|5018|Coritiba     |Coritiba     |\n",
            "|5019|Joinville    |Joinville    |\n",
            "|5020|Santos       |Santos       |\n",
            "|5021|Goias        |Goias        |\n",
            "|5022|Atletico-MG  |Galo doido   |\n",
            "|5023|Corinthians  |Corinthians  |\n",
            "|5024|Internacional|Internacional|\n",
            "|5025|Flamengo     |Mengao       |\n",
            "|5026|Figueirense  |Figueirense  |\n",
            "|5027|Athletico-PR |Athletico-PR |\n",
            "|5028|Vasco        |Vasco        |\n",
            "|5029|Chapecoense  |Chapecoense  |\n",
            "|5030|Sao Paulo    |Sao Paulo    |\n",
            "|5031|Cruzeiro     |Cabuloso     |\n",
            "|5032|Avai         |Avai         |\n",
            "|5033|Gremio       |Gremio       |\n",
            "|5034|Fluminense   |Fluminense   |\n",
            "|5035|Sport        |Sport        |\n",
            "|5036|Palmeiras    |Sem mundial  |\n",
            "|5037|Atletico-MG  |Galo doido   |\n",
            "|5038|Flamengo     |Mengao       |\n",
            "|5039|Santos       |Santos       |\n",
            "|5040|Athletico-PR |Athletico-PR |\n",
            "|5041|Joinville    |Joinville    |\n",
            "|5042|Sao Paulo    |Sao Paulo    |\n",
            "|5043|Internacional|Internacional|\n",
            "|5044|Figueirense  |Figueirense  |\n",
            "|5045|Goias        |Goias        |\n",
            "|5046|Fluminense   |Fluminense   |\n",
            "|5047|Atletico-MG  |Galo doido   |\n",
            "|5048|Coritiba     |Coritiba     |\n",
            "|5049|Chapecoense  |Chapecoense  |\n",
            "|5050|Corinthians  |Corinthians  |\n",
            "|5051|Sport        |Sport        |\n",
            "|5052|Vasco        |Vasco        |\n",
            "|5053|Ponte Preta  |Ponte Preta  |\n",
            "|5054|Avai         |Avai         |\n",
            "|5055|Palmeiras    |Sem mundial  |\n",
            "|5056|Gremio       |Gremio       |\n",
            "|5057|Figueirense  |Figueirense  |\n",
            "|5058|Sport        |Sport        |\n",
            "|5059|Flamengo     |Mengao       |\n",
            "|5060|Santos       |Santos       |\n",
            "|5061|Gremio       |Gremio       |\n",
            "|5062|Cruzeiro     |Cabuloso     |\n",
            "|5063|Joinville    |Joinville    |\n",
            "|5064|Athletico-PR |Athletico-PR |\n",
            "|5065|Sao Paulo    |Sao Paulo    |\n",
            "|5066|Fluminense   |Fluminense   |\n",
            "|5067|Avai         |Avai         |\n",
            "|5068|Chapecoense  |Chapecoense  |\n",
            "|5069|Corinthians  |Corinthians  |\n",
            "|5070|Atletico-MG  |Galo doido   |\n",
            "|5071|Palmeiras    |Sem mundial  |\n",
            "|5072|Goias        |Goias        |\n",
            "|5073|Ponte Preta  |Ponte Preta  |\n",
            "|5074|Coritiba     |Coritiba     |\n",
            "|5075|Vasco        |Vasco        |\n",
            "|5076|Internacional|Internacional|\n",
            "|5077|Sport        |Sport        |\n",
            "|5078|Vasco        |Vasco        |\n",
            "|5079|Palmeiras    |Sem mundial  |\n",
            "|5080|Atletico-MG  |Galo doido   |\n",
            "|5081|Joinville    |Joinville    |\n",
            "|5082|Gremio       |Gremio       |\n",
            "|5083|Athletico-PR |Athletico-PR |\n",
            "|5084|Corinthians  |Corinthians  |\n",
            "|5085|Figueirense  |Figueirense  |\n",
            "|5086|Fluminense   |Fluminense   |\n",
            "|5087|Coritiba     |Coritiba     |\n",
            "|5088|Chapecoense  |Chapecoense  |\n",
            "|5089|Cruzeiro     |Cabuloso     |\n",
            "|5090|Avai         |Avai         |\n",
            "|5091|Goias        |Goias        |\n",
            "|5092|Sao Paulo    |Sao Paulo    |\n",
            "|5093|Santos       |Santos       |\n",
            "|5094|Ponte Preta  |Ponte Preta  |\n",
            "|5095|Flamengo     |Mengao       |\n",
            "|5096|Internacional|Internacional|\n",
            "|5097|Chapecoense  |Chapecoense  |\n",
            "|5098|Goias        |Goias        |\n",
            "|5099|Coritiba     |Coritiba     |\n",
            "|5100|Figueirense  |Figueirense  |\n",
            "|5101|Palmeiras    |Sem mundial  |\n",
            "|5102|Atletico-MG  |Galo doido   |\n",
            "|5103|Internacional|Internacional|\n",
            "|5104|Vasco        |Vasco        |\n",
            "|5105|Corinthians  |Corinthians  |\n",
            "|5106|Fluminense   |Fluminense   |\n",
            "|5107|Santos       |Santos       |\n",
            "|5108|Gremio       |Gremio       |\n",
            "|5109|Ponte Preta  |Ponte Preta  |\n",
            "|5110|Sao Paulo    |Sao Paulo    |\n",
            "|5111|Joinville    |Joinville    |\n",
            "|5112|Flamengo     |Mengao       |\n",
            "|5113|Athletico-PR |Athletico-PR |\n",
            "|5114|Cruzeiro     |Cabuloso     |\n",
            "|5115|Sport        |Sport        |\n",
            "|5116|Avai         |Avai         |\n",
            "|5117|Internacional|Internacional|\n",
            "|5118|Flamengo     |Mengao       |\n",
            "|5119|Corinthians  |Corinthians  |\n",
            "|5120|Athletico-PR |Athletico-PR |\n",
            "|5121|Figueirense  |Figueirense  |\n",
            "|5122|Sport        |Sport        |\n",
            "|5123|Fluminense   |Fluminense   |\n",
            "|5124|Palmeiras    |Sem mundial  |\n",
            "|5125|Cruzeiro     |Cabuloso     |\n",
            "|5126|Joinville    |Joinville    |\n",
            "|5127|Avai         |Avai         |\n",
            "|5128|Gremio       |Gremio       |\n",
            "|5129|Atletico-MG  |Galo doido   |\n",
            "|5130|Chapecoense  |Chapecoense  |\n",
            "|5131|Santos       |Santos       |\n",
            "|5132|Ponte Preta  |Ponte Preta  |\n",
            "|5133|Coritiba     |Coritiba     |\n",
            "|5134|Sao Paulo    |Sao Paulo    |\n",
            "|5135|Goias        |Goias        |\n",
            "|5136|Vasco        |Vasco        |\n",
            "|5137|Corinthians  |Corinthians  |\n",
            "|5138|Atletico-MG  |Galo doido   |\n",
            "|5139|Fluminense   |Fluminense   |\n",
            "|5140|Coritiba     |Coritiba     |\n",
            "|5141|Palmeiras    |Sem mundial  |\n",
            "|5142|Joinville    |Joinville    |\n",
            "|5143|Internacional|Internacional|\n",
            "|5144|Figueirense  |Figueirense  |\n",
            "|5145|Flamengo     |Mengao       |\n",
            "|5146|Sport        |Sport        |\n",
            "|5147|Avai         |Avai         |\n",
            "|5148|Santos       |Santos       |\n",
            "|5149|Athletico-PR |Athletico-PR |\n",
            "|5150|Vasco        |Vasco        |\n",
            "|5151|Sao Paulo    |Sao Paulo    |\n",
            "|5152|Cruzeiro     |Cabuloso     |\n",
            "|5153|Ponte Preta  |Ponte Preta  |\n",
            "|5154|Goias        |Goias        |\n",
            "|5155|Gremio       |Gremio       |\n",
            "|5156|Chapecoense  |Chapecoense  |\n",
            "|5157|Coritiba     |Coritiba     |\n",
            "|5158|Flamengo     |Mengao       |\n",
            "|5159|Santos       |Santos       |\n",
            "|5160|Goias        |Goias        |\n",
            "|5161|Figueirense  |Figueirense  |\n",
            "|5162|Internacional|Internacional|\n",
            "|5163|Corinthians  |Corinthians  |\n",
            "|5164|Ponte Preta  |Ponte Preta  |\n",
            "|5165|Joinville    |Joinville    |\n",
            "|5166|Atletico-MG  |Galo doido   |\n",
            "|5167|Vasco        |Vasco        |\n",
            "|5168|Athletico-PR |Athletico-PR |\n",
            "|5169|Sao Paulo    |Sao Paulo    |\n",
            "|5170|Palmeiras    |Sem mundial  |\n",
            "|5171|Avai         |Avai         |\n",
            "|5172|Fluminense   |Fluminense   |\n",
            "|5173|Cruzeiro     |Cabuloso     |\n",
            "|5174|Sport        |Sport        |\n",
            "|5175|Gremio       |Gremio       |\n",
            "|5176|Chapecoense  |Chapecoense  |\n",
            "|5177|Goias        |Goias        |\n",
            "|5178|Santos       |Santos       |\n",
            "|5179|Figueirense  |Figueirense  |\n",
            "|5180|Coritiba     |Coritiba     |\n",
            "|5181|Ponte Preta  |Ponte Preta  |\n",
            "|5182|Joinville    |Joinville    |\n",
            "|5183|Internacional|Internacional|\n",
            "|5184|Corinthians  |Corinthians  |\n",
            "|5185|Flamengo     |Mengao       |\n",
            "|5186|Atletico-MG  |Galo doido   |\n",
            "|5187|Vasco        |Vasco        |\n",
            "|5188|Sao Paulo    |Sao Paulo    |\n",
            "|5189|Gremio       |Gremio       |\n",
            "|5190|Avai         |Avai         |\n",
            "|5191|Palmeiras    |Sem mundial  |\n",
            "|5192|Fluminense   |Fluminense   |\n",
            "|5193|Sport        |Sport        |\n",
            "|5194|Chapecoense  |Chapecoense  |\n",
            "|5195|Cruzeiro     |Cabuloso     |\n",
            "|5196|Athletico-PR |Athletico-PR |\n",
            "|5197|Joinville    |Joinville    |\n",
            "|5198|Ponte Preta  |Ponte Preta  |\n",
            "|5199|Internacional|Internacional|\n",
            "+----+-------------+-------------+\n",
            "only showing top 200 rows\n",
            "\n"
          ]
        }
      ]
    },
    {
      "cell_type": "markdown",
      "source": [
        "Quando eu quero trocar o tipo de uma coluna, uso CAST"
      ],
      "metadata": {
        "id": "6RVq9iK-avZ8"
      }
    },
    {
      "cell_type": "code",
      "source": [
        "q(\"\"\"\n",
        "\n",
        "  SELECT \n",
        "    ID,\n",
        "    data,\n",
        "    hora,\n",
        "    dia,\n",
        "    CAST( CONCAT(data, ' ', hora) AS timestamp ) AS datahora\n",
        "  FROM full\n",
        "\n",
        "\"\"\")"
      ],
      "metadata": {
        "colab": {
          "base_uri": "https://localhost:8080/"
        },
        "id": "oqjL01ydZzDG",
        "outputId": "5b9024a7-502b-4b0c-cb32-1108675d7a4d"
      },
      "execution_count": 107,
      "outputs": [
        {
          "output_type": "stream",
          "name": "stdout",
          "text": [
            "+---+----------+-----+-------+-------------------+\n",
            "|ID |data      |hora |dia    |datahora           |\n",
            "+---+----------+-----+-------+-------------------+\n",
            "|1  |2003-03-29|16:00|Sabado |2003-03-29 16:00:00|\n",
            "|2  |2003-03-29|16:00|Sabado |2003-03-29 16:00:00|\n",
            "|3  |2003-03-30|16:00|Domingo|2003-03-30 16:00:00|\n",
            "|4  |2003-03-30|16:00|Domingo|2003-03-30 16:00:00|\n",
            "|5  |2003-03-30|16:00|Domingo|2003-03-30 16:00:00|\n",
            "|6  |2003-03-30|16:00|Domingo|2003-03-30 16:00:00|\n",
            "|7  |2003-03-30|16:00|Domingo|2003-03-30 16:00:00|\n",
            "|8  |2003-03-30|16:00|Domingo|2003-03-30 16:00:00|\n",
            "|9  |2003-03-30|16:00|Domingo|2003-03-30 16:00:00|\n",
            "|10 |2003-03-30|16:00|Domingo|2003-03-30 16:00:00|\n",
            "|11 |2003-03-30|18:00|Domingo|2003-03-30 18:00:00|\n",
            "|12 |2003-03-30|18:00|Domingo|2003-03-30 18:00:00|\n",
            "|13 |2003-04-05|16:00|Sabado |2003-04-05 16:00:00|\n",
            "|14 |2003-04-05|16:00|Sabado |2003-04-05 16:00:00|\n",
            "|15 |2003-04-05|16:00|Sabado |2003-04-05 16:00:00|\n",
            "|16 |2003-04-05|18:00|Sabado |2003-04-05 18:00:00|\n",
            "|17 |2003-04-06|16:00|Domingo|2003-04-06 16:00:00|\n",
            "|18 |2003-04-06|16:00|Domingo|2003-04-06 16:00:00|\n",
            "|19 |2003-04-06|16:00|Domingo|2003-04-06 16:00:00|\n",
            "|20 |2003-04-06|16:00|Domingo|2003-04-06 16:00:00|\n",
            "|21 |2003-04-06|16:00|Domingo|2003-04-06 16:00:00|\n",
            "|22 |2003-04-06|16:00|Domingo|2003-04-06 16:00:00|\n",
            "|23 |2003-04-06|18:00|Domingo|2003-04-06 18:00:00|\n",
            "|24 |2003-04-06|18:00|Domingo|2003-04-06 18:00:00|\n",
            "|37 |2003-04-12|16:00|Sabado |2003-04-12 16:00:00|\n",
            "|38 |2003-04-12|16:00|Sabado |2003-04-12 16:00:00|\n",
            "|39 |2003-04-12|16:00|Sabado |2003-04-12 16:00:00|\n",
            "|40 |2003-04-12|18:00|Sabado |2003-04-12 18:00:00|\n",
            "|41 |2003-04-13|16:00|Domingo|2003-04-13 16:00:00|\n",
            "|42 |2003-04-13|16:00|Domingo|2003-04-13 16:00:00|\n",
            "+---+----------+-----+-------+-------------------+\n",
            "only showing top 30 rows\n",
            "\n"
          ]
        }
      ]
    },
    {
      "cell_type": "markdown",
      "source": [
        "# DEVER DE CASA\n",
        "\n",
        "1. Qual foi o time que mais venceu partidas desde 2014?\n",
        "2. Qual foi o estado que teve mais derrotas entre 2008 e 2016?\n",
        "3. Qual foi a média de cartões vermelhos que o Palmeiras tomou nas partidas em que jogou fora de casa, marcou pelo menos 1 gol no primeiro tempo?"
      ],
      "metadata": {
        "id": "QW7ySmbTcqpu"
      }
    },
    {
      "cell_type": "code",
      "source": [],
      "metadata": {
        "id": "25KKnqAva4ff"
      },
      "execution_count": null,
      "outputs": []
    }
  ]
}